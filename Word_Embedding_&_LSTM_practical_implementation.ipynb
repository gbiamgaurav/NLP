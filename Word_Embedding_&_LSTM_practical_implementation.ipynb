{
  "nbformat": 4,
  "nbformat_minor": 0,
  "metadata": {
    "colab": {
      "provenance": [],
      "authorship_tag": "ABX9TyN6FzSYYZlDKTW7sverAALe",
      "include_colab_link": true
    },
    "kernelspec": {
      "name": "python3",
      "display_name": "Python 3"
    },
    "language_info": {
      "name": "python"
    },
    "accelerator": "GPU",
    "gpuClass": "standard"
  },
  "cells": [
    {
      "cell_type": "markdown",
      "metadata": {
        "id": "view-in-github",
        "colab_type": "text"
      },
      "source": [
        "<a href=\"https://colab.research.google.com/github/gbiamgaurav/NLP/blob/main/Word_Embedding_%26_LSTM_practical_implementation.ipynb\" target=\"_parent\"><img src=\"https://colab.research.google.com/assets/colab-badge.svg\" alt=\"Open In Colab\"/></a>"
      ]
    },
    {
      "cell_type": "markdown",
      "source": [
        "## Word Embedding Techniques using Embedding Layer in Keras"
      ],
      "metadata": {
        "id": "hbDP2sWgk9gF"
      }
    },
    {
      "cell_type": "code",
      "execution_count": 4,
      "metadata": {
        "colab": {
          "base_uri": "https://localhost:8080/"
        },
        "id": "XccUxZqrkaFm",
        "outputId": "be49a562-9299-4a79-9270-19154cd7a447"
      },
      "outputs": [
        {
          "output_type": "stream",
          "name": "stdout",
          "text": [
            "Looking in indexes: https://pypi.org/simple, https://us-python.pkg.dev/colab-wheels/public/simple/\n",
            "Requirement already satisfied: tensorflow in /usr/local/lib/python3.9/dist-packages (2.12.0)\n",
            "Requirement already satisfied: opt-einsum>=2.3.2 in /usr/local/lib/python3.9/dist-packages (from tensorflow) (3.3.0)\n",
            "Requirement already satisfied: google-pasta>=0.1.1 in /usr/local/lib/python3.9/dist-packages (from tensorflow) (0.2.0)\n",
            "Requirement already satisfied: packaging in /usr/local/lib/python3.9/dist-packages (from tensorflow) (23.0)\n",
            "Requirement already satisfied: jax>=0.3.15 in /usr/local/lib/python3.9/dist-packages (from tensorflow) (0.4.7)\n",
            "Requirement already satisfied: six>=1.12.0 in /usr/local/lib/python3.9/dist-packages (from tensorflow) (1.16.0)\n",
            "Requirement already satisfied: tensorflow-estimator<2.13,>=2.12.0 in /usr/local/lib/python3.9/dist-packages (from tensorflow) (2.12.0)\n",
            "Requirement already satisfied: keras<2.13,>=2.12.0 in /usr/local/lib/python3.9/dist-packages (from tensorflow) (2.12.0)\n",
            "Requirement already satisfied: typing-extensions>=3.6.6 in /usr/local/lib/python3.9/dist-packages (from tensorflow) (4.5.0)\n",
            "Requirement already satisfied: termcolor>=1.1.0 in /usr/local/lib/python3.9/dist-packages (from tensorflow) (2.2.0)\n",
            "Requirement already satisfied: grpcio<2.0,>=1.24.3 in /usr/local/lib/python3.9/dist-packages (from tensorflow) (1.53.0)\n",
            "Requirement already satisfied: libclang>=13.0.0 in /usr/local/lib/python3.9/dist-packages (from tensorflow) (16.0.0)\n",
            "Requirement already satisfied: protobuf!=4.21.0,!=4.21.1,!=4.21.2,!=4.21.3,!=4.21.4,!=4.21.5,<5.0.0dev,>=3.20.3 in /usr/local/lib/python3.9/dist-packages (from tensorflow) (3.20.3)\n",
            "Requirement already satisfied: flatbuffers>=2.0 in /usr/local/lib/python3.9/dist-packages (from tensorflow) (23.3.3)\n",
            "Requirement already satisfied: numpy<1.24,>=1.22 in /usr/local/lib/python3.9/dist-packages (from tensorflow) (1.22.4)\n",
            "Requirement already satisfied: tensorboard<2.13,>=2.12 in /usr/local/lib/python3.9/dist-packages (from tensorflow) (2.12.1)\n",
            "Requirement already satisfied: gast<=0.4.0,>=0.2.1 in /usr/local/lib/python3.9/dist-packages (from tensorflow) (0.4.0)\n",
            "Requirement already satisfied: h5py>=2.9.0 in /usr/local/lib/python3.9/dist-packages (from tensorflow) (3.8.0)\n",
            "Requirement already satisfied: tensorflow-io-gcs-filesystem>=0.23.1 in /usr/local/lib/python3.9/dist-packages (from tensorflow) (0.32.0)\n",
            "Requirement already satisfied: wrapt<1.15,>=1.11.0 in /usr/local/lib/python3.9/dist-packages (from tensorflow) (1.14.1)\n",
            "Requirement already satisfied: astunparse>=1.6.0 in /usr/local/lib/python3.9/dist-packages (from tensorflow) (1.6.3)\n",
            "Requirement already satisfied: absl-py>=1.0.0 in /usr/local/lib/python3.9/dist-packages (from tensorflow) (1.4.0)\n",
            "Requirement already satisfied: setuptools in /usr/local/lib/python3.9/dist-packages (from tensorflow) (67.6.1)\n",
            "Requirement already satisfied: wheel<1.0,>=0.23.0 in /usr/local/lib/python3.9/dist-packages (from astunparse>=1.6.0->tensorflow) (0.40.0)\n",
            "Requirement already satisfied: ml-dtypes>=0.0.3 in /usr/local/lib/python3.9/dist-packages (from jax>=0.3.15->tensorflow) (0.0.4)\n",
            "Requirement already satisfied: scipy>=1.7 in /usr/local/lib/python3.9/dist-packages (from jax>=0.3.15->tensorflow) (1.10.1)\n",
            "Requirement already satisfied: markdown>=2.6.8 in /usr/local/lib/python3.9/dist-packages (from tensorboard<2.13,>=2.12->tensorflow) (3.4.3)\n",
            "Requirement already satisfied: tensorboard-data-server<0.8.0,>=0.7.0 in /usr/local/lib/python3.9/dist-packages (from tensorboard<2.13,>=2.12->tensorflow) (0.7.0)\n",
            "Requirement already satisfied: requests<3,>=2.21.0 in /usr/local/lib/python3.9/dist-packages (from tensorboard<2.13,>=2.12->tensorflow) (2.27.1)\n",
            "Requirement already satisfied: google-auth-oauthlib<1.1,>=0.5 in /usr/local/lib/python3.9/dist-packages (from tensorboard<2.13,>=2.12->tensorflow) (1.0.0)\n",
            "Requirement already satisfied: google-auth<3,>=1.6.3 in /usr/local/lib/python3.9/dist-packages (from tensorboard<2.13,>=2.12->tensorflow) (2.17.1)\n",
            "Requirement already satisfied: tensorboard-plugin-wit>=1.6.0 in /usr/local/lib/python3.9/dist-packages (from tensorboard<2.13,>=2.12->tensorflow) (1.8.1)\n",
            "Requirement already satisfied: werkzeug>=1.0.1 in /usr/local/lib/python3.9/dist-packages (from tensorboard<2.13,>=2.12->tensorflow) (2.2.3)\n",
            "Requirement already satisfied: cachetools<6.0,>=2.0.0 in /usr/local/lib/python3.9/dist-packages (from google-auth<3,>=1.6.3->tensorboard<2.13,>=2.12->tensorflow) (5.3.0)\n",
            "Requirement already satisfied: rsa<5,>=3.1.4 in /usr/local/lib/python3.9/dist-packages (from google-auth<3,>=1.6.3->tensorboard<2.13,>=2.12->tensorflow) (4.9)\n",
            "Requirement already satisfied: pyasn1-modules>=0.2.1 in /usr/local/lib/python3.9/dist-packages (from google-auth<3,>=1.6.3->tensorboard<2.13,>=2.12->tensorflow) (0.2.8)\n",
            "Requirement already satisfied: requests-oauthlib>=0.7.0 in /usr/local/lib/python3.9/dist-packages (from google-auth-oauthlib<1.1,>=0.5->tensorboard<2.13,>=2.12->tensorflow) (1.3.1)\n",
            "Requirement already satisfied: importlib-metadata>=4.4 in /usr/local/lib/python3.9/dist-packages (from markdown>=2.6.8->tensorboard<2.13,>=2.12->tensorflow) (6.1.0)\n",
            "Requirement already satisfied: urllib3<1.27,>=1.21.1 in /usr/local/lib/python3.9/dist-packages (from requests<3,>=2.21.0->tensorboard<2.13,>=2.12->tensorflow) (1.26.15)\n",
            "Requirement already satisfied: idna<4,>=2.5 in /usr/local/lib/python3.9/dist-packages (from requests<3,>=2.21.0->tensorboard<2.13,>=2.12->tensorflow) (3.4)\n",
            "Requirement already satisfied: charset-normalizer~=2.0.0 in /usr/local/lib/python3.9/dist-packages (from requests<3,>=2.21.0->tensorboard<2.13,>=2.12->tensorflow) (2.0.12)\n",
            "Requirement already satisfied: certifi>=2017.4.17 in /usr/local/lib/python3.9/dist-packages (from requests<3,>=2.21.0->tensorboard<2.13,>=2.12->tensorflow) (2022.12.7)\n",
            "Requirement already satisfied: MarkupSafe>=2.1.1 in /usr/local/lib/python3.9/dist-packages (from werkzeug>=1.0.1->tensorboard<2.13,>=2.12->tensorflow) (2.1.2)\n",
            "Requirement already satisfied: zipp>=0.5 in /usr/local/lib/python3.9/dist-packages (from importlib-metadata>=4.4->markdown>=2.6.8->tensorboard<2.13,>=2.12->tensorflow) (3.15.0)\n",
            "Requirement already satisfied: pyasn1<0.5.0,>=0.4.6 in /usr/local/lib/python3.9/dist-packages (from pyasn1-modules>=0.2.1->google-auth<3,>=1.6.3->tensorboard<2.13,>=2.12->tensorflow) (0.4.8)\n",
            "Requirement already satisfied: oauthlib>=3.0.0 in /usr/local/lib/python3.9/dist-packages (from requests-oauthlib>=0.7.0->google-auth-oauthlib<1.1,>=0.5->tensorboard<2.13,>=2.12->tensorflow) (3.2.2)\n"
          ]
        }
      ],
      "source": [
        "### Libraries USed Tensorflow> 2.0  and keras\n",
        "\n",
        "!pip install tensorflow"
      ]
    },
    {
      "cell_type": "code",
      "source": [
        "import tensorflow as tf\n",
        "print(tf.__version__)"
      ],
      "metadata": {
        "colab": {
          "base_uri": "https://localhost:8080/"
        },
        "id": "rP0qyTTOlExR",
        "outputId": "446a869a-e649-4692-b7a2-3496ba7b4898"
      },
      "execution_count": 5,
      "outputs": [
        {
          "output_type": "stream",
          "name": "stdout",
          "text": [
            "2.12.0\n"
          ]
        }
      ]
    },
    {
      "cell_type": "code",
      "source": [
        "##tensorflow >2.0\n",
        "\n",
        "from tensorflow.keras.preprocessing.text import one_hot"
      ],
      "metadata": {
        "id": "t59bFfFvlZwt"
      },
      "execution_count": 6,
      "outputs": []
    },
    {
      "cell_type": "code",
      "source": [
        "### sentences\n",
        "\n",
        "sent=[  'the glass of milk',\n",
        "     'the glass of juice',\n",
        "     'the cup of tea',\n",
        "    'I am a good boy',\n",
        "     'I am a good developer',\n",
        "     'understand the meaning of words',\n",
        "     'your videos are good']"
      ],
      "metadata": {
        "id": "zq6minevlfZv"
      },
      "execution_count": 7,
      "outputs": []
    },
    {
      "cell_type": "code",
      "source": [
        "sent"
      ],
      "metadata": {
        "colab": {
          "base_uri": "https://localhost:8080/"
        },
        "id": "U12P2x3Clp13",
        "outputId": "0163dec6-c4f3-4f53-d8c0-9fddf43ca9de"
      },
      "execution_count": 8,
      "outputs": [
        {
          "output_type": "execute_result",
          "data": {
            "text/plain": [
              "['the glass of milk',\n",
              " 'the glass of juice',\n",
              " 'the cup of tea',\n",
              " 'I am a good boy',\n",
              " 'I am a good developer',\n",
              " 'understand the meaning of words',\n",
              " 'your videos are good']"
            ]
          },
          "metadata": {},
          "execution_count": 8
        }
      ]
    },
    {
      "cell_type": "code",
      "source": [
        "## Vocabulary size\n",
        "\n",
        "voc_size = 10000"
      ],
      "metadata": {
        "id": "box_YUKOlrrG"
      },
      "execution_count": 15,
      "outputs": []
    },
    {
      "cell_type": "markdown",
      "source": [
        "## One - Hot Representation"
      ],
      "metadata": {
        "id": "TkVYL4p0mR0P"
      }
    },
    {
      "cell_type": "code",
      "source": [
        "onehot_repr=[one_hot(words,voc_size)for words in sent] \n",
        "print(onehot_repr)"
      ],
      "metadata": {
        "colab": {
          "base_uri": "https://localhost:8080/"
        },
        "id": "K1-VykofmQtA",
        "outputId": "4ac8c7b5-490f-4c7f-b726-f0368916e8cc"
      },
      "execution_count": 16,
      "outputs": [
        {
          "output_type": "stream",
          "name": "stdout",
          "text": [
            "[[9970, 8226, 4275, 3046], [9970, 8226, 4275, 2320], [9970, 1651, 4275, 5986], [9330, 1868, 6320, 8179, 6043], [9330, 1868, 6320, 8179, 5214], [7088, 9970, 6459, 4275, 2118], [1563, 5401, 4391, 8179]]\n"
          ]
        }
      ]
    },
    {
      "cell_type": "markdown",
      "source": [
        "## Word Embedding Representation"
      ],
      "metadata": {
        "id": "Qy3oUHwbmdpc"
      }
    },
    {
      "cell_type": "code",
      "source": [
        "from tensorflow.keras.layers import Embedding\n",
        "from tensorflow.keras.preprocessing.sequence import pad_sequences # pre padding & post padding\n",
        "from tensorflow.keras.models import Sequential"
      ],
      "metadata": {
        "id": "KG21r9SCmaJd"
      },
      "execution_count": 17,
      "outputs": []
    },
    {
      "cell_type": "code",
      "source": [
        "import numpy as np"
      ],
      "metadata": {
        "id": "ODZUg6oNn6hp"
      },
      "execution_count": 18,
      "outputs": []
    },
    {
      "cell_type": "markdown",
      "source": [
        "## Pre Padding"
      ],
      "metadata": {
        "id": "IXgCsrb5pP21"
      }
    },
    {
      "cell_type": "code",
      "source": [
        "sent_length = 8\n",
        "\n",
        "embedded_docs = pad_sequences(onehot_repr, padding='pre', maxlen=sent_length)"
      ],
      "metadata": {
        "id": "zvheTPA1n-Xe"
      },
      "execution_count": 19,
      "outputs": []
    },
    {
      "cell_type": "code",
      "source": [
        "print(embedded_docs)"
      ],
      "metadata": {
        "colab": {
          "base_uri": "https://localhost:8080/"
        },
        "id": "g9SdQ2T-oavx",
        "outputId": "5555f36c-13ac-4c11-fe91-3ebd188d7c23"
      },
      "execution_count": 20,
      "outputs": [
        {
          "output_type": "stream",
          "name": "stdout",
          "text": [
            "[[   0    0    0    0 9970 8226 4275 3046]\n",
            " [   0    0    0    0 9970 8226 4275 2320]\n",
            " [   0    0    0    0 9970 1651 4275 5986]\n",
            " [   0    0    0 9330 1868 6320 8179 6043]\n",
            " [   0    0    0 9330 1868 6320 8179 5214]\n",
            " [   0    0    0 7088 9970 6459 4275 2118]\n",
            " [   0    0    0    0 1563 5401 4391 8179]]\n"
          ]
        }
      ]
    },
    {
      "cell_type": "markdown",
      "source": [
        "## Post Padding"
      ],
      "metadata": {
        "id": "ImSy0nRgpMl9"
      }
    },
    {
      "cell_type": "code",
      "source": [
        "embedded_docs = pad_sequences(onehot_repr, padding='post', maxlen=sent_length)\n",
        "\n",
        "print(embedded_docs)"
      ],
      "metadata": {
        "colab": {
          "base_uri": "https://localhost:8080/"
        },
        "id": "l2ChulxionH5",
        "outputId": "92d7a64b-1b84-4a48-8bd4-ed8b41530fcb"
      },
      "execution_count": 22,
      "outputs": [
        {
          "output_type": "stream",
          "name": "stdout",
          "text": [
            "[[9970 8226 4275 3046    0    0    0    0]\n",
            " [9970 8226 4275 2320    0    0    0    0]\n",
            " [9970 1651 4275 5986    0    0    0    0]\n",
            " [9330 1868 6320 8179 6043    0    0    0]\n",
            " [9330 1868 6320 8179 5214    0    0    0]\n",
            " [7088 9970 6459 4275 2118    0    0    0]\n",
            " [1563 5401 4391 8179    0    0    0    0]]\n"
          ]
        }
      ]
    },
    {
      "cell_type": "code",
      "source": [
        "## 10 feature dimensions\n",
        "\n",
        "dim = 10"
      ],
      "metadata": {
        "id": "bqQ66e56ocvB"
      },
      "execution_count": 23,
      "outputs": []
    },
    {
      "cell_type": "markdown",
      "source": [
        "## Create a Model"
      ],
      "metadata": {
        "id": "35WqzaWjpJ3A"
      }
    },
    {
      "cell_type": "code",
      "source": [
        "model = Sequential()\n",
        "\n",
        "model.add(Embedding(voc_size, 10, input_length=sent_length))\n",
        "\n",
        "model.compile('adam', 'mse')"
      ],
      "metadata": {
        "id": "2Lr5tTOOomiU"
      },
      "execution_count": 24,
      "outputs": []
    },
    {
      "cell_type": "code",
      "source": [
        "model.summary()"
      ],
      "metadata": {
        "colab": {
          "base_uri": "https://localhost:8080/"
        },
        "id": "0rfv2sATpG53",
        "outputId": "ffc23c52-bca3-4ae3-ebf3-cb425e82d96b"
      },
      "execution_count": 25,
      "outputs": [
        {
          "output_type": "stream",
          "name": "stdout",
          "text": [
            "Model: \"sequential\"\n",
            "_________________________________________________________________\n",
            " Layer (type)                Output Shape              Param #   \n",
            "=================================================================\n",
            " embedding (Embedding)       (None, 8, 10)             100000    \n",
            "                                                                 \n",
            "=================================================================\n",
            "Total params: 100,000\n",
            "Trainable params: 100,000\n",
            "Non-trainable params: 0\n",
            "_________________________________________________________________\n"
          ]
        }
      ]
    },
    {
      "cell_type": "code",
      "source": [
        "'the glass of milk'\n",
        "embedded_docs[0]"
      ],
      "metadata": {
        "colab": {
          "base_uri": "https://localhost:8080/"
        },
        "id": "-yZgGh8kqBuG",
        "outputId": "a178b45a-0c1f-4316-abc7-cd0d9484105a"
      },
      "execution_count": 28,
      "outputs": [
        {
          "output_type": "execute_result",
          "data": {
            "text/plain": [
              "array([9970, 8226, 4275, 3046,    0,    0,    0,    0], dtype=int32)"
            ]
          },
          "metadata": {},
          "execution_count": 28
        }
      ]
    },
    {
      "cell_type": "code",
      "source": [
        "model.predict(embedded_docs[0])"
      ],
      "metadata": {
        "colab": {
          "base_uri": "https://localhost:8080/"
        },
        "id": "wk5EKw4vpr0m",
        "outputId": "cf046dc2-2af4-4422-ac86-b8012d8aea44"
      },
      "execution_count": 29,
      "outputs": [
        {
          "output_type": "stream",
          "name": "stdout",
          "text": [
            "1/1 [==============================] - 0s 19ms/step\n"
          ]
        },
        {
          "output_type": "execute_result",
          "data": {
            "text/plain": [
              "array([[-0.01750458, -0.03404515, -0.01858233,  0.03257856,  0.04929498,\n",
              "        -0.00177536,  0.01616636,  0.012118  , -0.00747627, -0.04241472],\n",
              "       [-0.04834662,  0.0268978 , -0.01682065,  0.01677194, -0.04448731,\n",
              "         0.00612178, -0.04487002,  0.03579732,  0.03713492,  0.03369912],\n",
              "       [-0.03710579, -0.04361148,  0.03227798,  0.00135171, -0.02748399,\n",
              "         0.03492543, -0.0341462 , -0.01541172, -0.01409209, -0.00748793],\n",
              "       [ 0.00467826,  0.00442022,  0.01460977, -0.01025655,  0.00103816,\n",
              "        -0.00077721, -0.00279514,  0.03537117,  0.01402387,  0.00884743],\n",
              "       [ 0.03182806, -0.02075398, -0.04745043, -0.01801939,  0.0301291 ,\n",
              "        -0.00981586, -0.00032576, -0.03836839, -0.01134453,  0.02724269],\n",
              "       [ 0.03182806, -0.02075398, -0.04745043, -0.01801939,  0.0301291 ,\n",
              "        -0.00981586, -0.00032576, -0.03836839, -0.01134453,  0.02724269],\n",
              "       [ 0.03182806, -0.02075398, -0.04745043, -0.01801939,  0.0301291 ,\n",
              "        -0.00981586, -0.00032576, -0.03836839, -0.01134453,  0.02724269],\n",
              "       [ 0.03182806, -0.02075398, -0.04745043, -0.01801939,  0.0301291 ,\n",
              "        -0.00981586, -0.00032576, -0.03836839, -0.01134453,  0.02724269]],\n",
              "      dtype=float32)"
            ]
          },
          "metadata": {},
          "execution_count": 29
        }
      ]
    },
    {
      "cell_type": "code",
      "source": [
        "print(model.predict(embedded_docs))"
      ],
      "metadata": {
        "colab": {
          "base_uri": "https://localhost:8080/"
        },
        "id": "LIFd1n7op6W0",
        "outputId": "788e320a-5863-4c5d-e3f8-ac5e8d7e595c"
      },
      "execution_count": 32,
      "outputs": [
        {
          "output_type": "stream",
          "name": "stdout",
          "text": [
            "1/1 [==============================] - 0s 19ms/step\n",
            "[[[-0.01750458 -0.03404515 -0.01858233  0.03257856  0.04929498\n",
            "   -0.00177536  0.01616636  0.012118   -0.00747627 -0.04241472]\n",
            "  [-0.04834662  0.0268978  -0.01682065  0.01677194 -0.04448731\n",
            "    0.00612178 -0.04487002  0.03579732  0.03713492  0.03369912]\n",
            "  [-0.03710579 -0.04361148  0.03227798  0.00135171 -0.02748399\n",
            "    0.03492543 -0.0341462  -0.01541172 -0.01409209 -0.00748793]\n",
            "  [ 0.00467826  0.00442022  0.01460977 -0.01025655  0.00103816\n",
            "   -0.00077721 -0.00279514  0.03537117  0.01402387  0.00884743]\n",
            "  [ 0.03182806 -0.02075398 -0.04745043 -0.01801939  0.0301291\n",
            "   -0.00981586 -0.00032576 -0.03836839 -0.01134453  0.02724269]\n",
            "  [ 0.03182806 -0.02075398 -0.04745043 -0.01801939  0.0301291\n",
            "   -0.00981586 -0.00032576 -0.03836839 -0.01134453  0.02724269]\n",
            "  [ 0.03182806 -0.02075398 -0.04745043 -0.01801939  0.0301291\n",
            "   -0.00981586 -0.00032576 -0.03836839 -0.01134453  0.02724269]\n",
            "  [ 0.03182806 -0.02075398 -0.04745043 -0.01801939  0.0301291\n",
            "   -0.00981586 -0.00032576 -0.03836839 -0.01134453  0.02724269]]\n",
            "\n",
            " [[-0.01750458 -0.03404515 -0.01858233  0.03257856  0.04929498\n",
            "   -0.00177536  0.01616636  0.012118   -0.00747627 -0.04241472]\n",
            "  [-0.04834662  0.0268978  -0.01682065  0.01677194 -0.04448731\n",
            "    0.00612178 -0.04487002  0.03579732  0.03713492  0.03369912]\n",
            "  [-0.03710579 -0.04361148  0.03227798  0.00135171 -0.02748399\n",
            "    0.03492543 -0.0341462  -0.01541172 -0.01409209 -0.00748793]\n",
            "  [ 0.01814233 -0.04498515 -0.0011749   0.0497953  -0.02820035\n",
            "   -0.01145338 -0.0246716  -0.03845022  0.02958796 -0.03399076]\n",
            "  [ 0.03182806 -0.02075398 -0.04745043 -0.01801939  0.0301291\n",
            "   -0.00981586 -0.00032576 -0.03836839 -0.01134453  0.02724269]\n",
            "  [ 0.03182806 -0.02075398 -0.04745043 -0.01801939  0.0301291\n",
            "   -0.00981586 -0.00032576 -0.03836839 -0.01134453  0.02724269]\n",
            "  [ 0.03182806 -0.02075398 -0.04745043 -0.01801939  0.0301291\n",
            "   -0.00981586 -0.00032576 -0.03836839 -0.01134453  0.02724269]\n",
            "  [ 0.03182806 -0.02075398 -0.04745043 -0.01801939  0.0301291\n",
            "   -0.00981586 -0.00032576 -0.03836839 -0.01134453  0.02724269]]\n",
            "\n",
            " [[-0.01750458 -0.03404515 -0.01858233  0.03257856  0.04929498\n",
            "   -0.00177536  0.01616636  0.012118   -0.00747627 -0.04241472]\n",
            "  [ 0.01356016  0.0430555  -0.03711886  0.01667729  0.02104964\n",
            "   -0.04973782 -0.02924203 -0.01197146 -0.04162953  0.00487169]\n",
            "  [-0.03710579 -0.04361148  0.03227798  0.00135171 -0.02748399\n",
            "    0.03492543 -0.0341462  -0.01541172 -0.01409209 -0.00748793]\n",
            "  [-0.01155262  0.03808689  0.04369594  0.00189279 -0.0204665\n",
            "   -0.04916475  0.0467674   0.02623416 -0.00179404 -0.00388924]\n",
            "  [ 0.03182806 -0.02075398 -0.04745043 -0.01801939  0.0301291\n",
            "   -0.00981586 -0.00032576 -0.03836839 -0.01134453  0.02724269]\n",
            "  [ 0.03182806 -0.02075398 -0.04745043 -0.01801939  0.0301291\n",
            "   -0.00981586 -0.00032576 -0.03836839 -0.01134453  0.02724269]\n",
            "  [ 0.03182806 -0.02075398 -0.04745043 -0.01801939  0.0301291\n",
            "   -0.00981586 -0.00032576 -0.03836839 -0.01134453  0.02724269]\n",
            "  [ 0.03182806 -0.02075398 -0.04745043 -0.01801939  0.0301291\n",
            "   -0.00981586 -0.00032576 -0.03836839 -0.01134453  0.02724269]]\n",
            "\n",
            " [[ 0.02283749  0.03389826 -0.00493169 -0.04981804  0.02902361\n",
            "    0.0100595   0.0152276   0.04170967  0.00197474  0.02106006]\n",
            "  [ 0.03919382 -0.03360144 -0.0255342   0.01947829  0.0119637\n",
            "    0.01526919  0.04191475  0.01950988  0.0013762   0.02061943]\n",
            "  [-0.02174989 -0.00304668  0.04637755 -0.04768593  0.00331979\n",
            "    0.04231708  0.01384592 -0.01346632 -0.01294469  0.01518775]\n",
            "  [ 0.00520869 -0.00074238 -0.01161562 -0.00300219  0.00499613\n",
            "    0.01759792 -0.01093469  0.01019374  0.0473794  -0.04048856]\n",
            "  [-0.03218826 -0.02782574 -0.01048899  0.01674408 -0.03873154\n",
            "   -0.03218744 -0.04074387  0.00168985 -0.02419479 -0.01937662]\n",
            "  [ 0.03182806 -0.02075398 -0.04745043 -0.01801939  0.0301291\n",
            "   -0.00981586 -0.00032576 -0.03836839 -0.01134453  0.02724269]\n",
            "  [ 0.03182806 -0.02075398 -0.04745043 -0.01801939  0.0301291\n",
            "   -0.00981586 -0.00032576 -0.03836839 -0.01134453  0.02724269]\n",
            "  [ 0.03182806 -0.02075398 -0.04745043 -0.01801939  0.0301291\n",
            "   -0.00981586 -0.00032576 -0.03836839 -0.01134453  0.02724269]]\n",
            "\n",
            " [[ 0.02283749  0.03389826 -0.00493169 -0.04981804  0.02902361\n",
            "    0.0100595   0.0152276   0.04170967  0.00197474  0.02106006]\n",
            "  [ 0.03919382 -0.03360144 -0.0255342   0.01947829  0.0119637\n",
            "    0.01526919  0.04191475  0.01950988  0.0013762   0.02061943]\n",
            "  [-0.02174989 -0.00304668  0.04637755 -0.04768593  0.00331979\n",
            "    0.04231708  0.01384592 -0.01346632 -0.01294469  0.01518775]\n",
            "  [ 0.00520869 -0.00074238 -0.01161562 -0.00300219  0.00499613\n",
            "    0.01759792 -0.01093469  0.01019374  0.0473794  -0.04048856]\n",
            "  [-0.04123207 -0.00144614  0.03779045  0.02358663 -0.04668183\n",
            "   -0.02116822  0.01863405  0.03357812 -0.01066433  0.02427277]\n",
            "  [ 0.03182806 -0.02075398 -0.04745043 -0.01801939  0.0301291\n",
            "   -0.00981586 -0.00032576 -0.03836839 -0.01134453  0.02724269]\n",
            "  [ 0.03182806 -0.02075398 -0.04745043 -0.01801939  0.0301291\n",
            "   -0.00981586 -0.00032576 -0.03836839 -0.01134453  0.02724269]\n",
            "  [ 0.03182806 -0.02075398 -0.04745043 -0.01801939  0.0301291\n",
            "   -0.00981586 -0.00032576 -0.03836839 -0.01134453  0.02724269]]\n",
            "\n",
            " [[ 0.02166896 -0.03737552  0.02648235 -0.002903   -0.03618721\n",
            "    0.04877761  0.01351987  0.02885557 -0.01264654  0.04737991]\n",
            "  [-0.01750458 -0.03404515 -0.01858233  0.03257856  0.04929498\n",
            "   -0.00177536  0.01616636  0.012118   -0.00747627 -0.04241472]\n",
            "  [-0.03891984  0.02302195 -0.03344296 -0.04016998  0.04375049\n",
            "    0.01415446 -0.02695266  0.0456163  -0.00074569  0.01560089]\n",
            "  [-0.03710579 -0.04361148  0.03227798  0.00135171 -0.02748399\n",
            "    0.03492543 -0.0341462  -0.01541172 -0.01409209 -0.00748793]\n",
            "  [-0.03546416 -0.01208001  0.0395378  -0.0460688   0.01720585\n",
            "   -0.01937641  0.04982673 -0.04718875  0.04280138 -0.03038409]\n",
            "  [ 0.03182806 -0.02075398 -0.04745043 -0.01801939  0.0301291\n",
            "   -0.00981586 -0.00032576 -0.03836839 -0.01134453  0.02724269]\n",
            "  [ 0.03182806 -0.02075398 -0.04745043 -0.01801939  0.0301291\n",
            "   -0.00981586 -0.00032576 -0.03836839 -0.01134453  0.02724269]\n",
            "  [ 0.03182806 -0.02075398 -0.04745043 -0.01801939  0.0301291\n",
            "   -0.00981586 -0.00032576 -0.03836839 -0.01134453  0.02724269]]\n",
            "\n",
            " [[-0.00602852 -0.03095989  0.00541468 -0.04483122  0.04207407\n",
            "   -0.01936818  0.02421014 -0.02586503 -0.00936728 -0.02368865]\n",
            "  [-0.04371089 -0.02717085 -0.04450465  0.01028848 -0.0448759\n",
            "   -0.02325119  0.0375757  -0.00530494 -0.04647508 -0.03140388]\n",
            "  [ 0.0445369   0.02452496 -0.0264351   0.02096542  0.01429952\n",
            "   -0.00065549 -0.00280122  0.04631979  0.00054873  0.0296533 ]\n",
            "  [ 0.00520869 -0.00074238 -0.01161562 -0.00300219  0.00499613\n",
            "    0.01759792 -0.01093469  0.01019374  0.0473794  -0.04048856]\n",
            "  [ 0.03182806 -0.02075398 -0.04745043 -0.01801939  0.0301291\n",
            "   -0.00981586 -0.00032576 -0.03836839 -0.01134453  0.02724269]\n",
            "  [ 0.03182806 -0.02075398 -0.04745043 -0.01801939  0.0301291\n",
            "   -0.00981586 -0.00032576 -0.03836839 -0.01134453  0.02724269]\n",
            "  [ 0.03182806 -0.02075398 -0.04745043 -0.01801939  0.0301291\n",
            "   -0.00981586 -0.00032576 -0.03836839 -0.01134453  0.02724269]\n",
            "  [ 0.03182806 -0.02075398 -0.04745043 -0.01801939  0.0301291\n",
            "   -0.00981586 -0.00032576 -0.03836839 -0.01134453  0.02724269]]]\n"
          ]
        }
      ]
    },
    {
      "cell_type": "markdown",
      "source": [
        "## Assignment "
      ],
      "metadata": {
        "id": "lBApbf9mqk7G"
      }
    },
    {
      "cell_type": "code",
      "source": [
        "### Assignment\n",
        "\n",
        "sentences =[\"The world is a better place\",\n",
        "      \"Marvel series is my favourite movie\",\n",
        "      \"I like DC movies\",\n",
        "      \"the cat is eating the food\",\n",
        "      \"Tom and Jerry is my favourite movie\",\n",
        "      \"Python is my favourite programming language\"\n",
        "      ]"
      ],
      "metadata": {
        "id": "4lj2JVK3qTIs"
      },
      "execution_count": 34,
      "outputs": []
    },
    {
      "cell_type": "code",
      "source": [
        "sentences"
      ],
      "metadata": {
        "colab": {
          "base_uri": "https://localhost:8080/"
        },
        "id": "PXN0gy1Iqpp0",
        "outputId": "55b1db95-eab5-4c84-9f18-254304ac20e1"
      },
      "execution_count": 35,
      "outputs": [
        {
          "output_type": "execute_result",
          "data": {
            "text/plain": [
              "['The world is a better place',\n",
              " 'Marvel series is my favourite movie',\n",
              " 'I like DC movies',\n",
              " 'the cat is eating the food',\n",
              " 'Tom and Jerry is my favourite movie',\n",
              " 'Python is my favourite programming language']"
            ]
          },
          "metadata": {},
          "execution_count": 35
        }
      ]
    },
    {
      "cell_type": "code",
      "source": [
        "## Vocabulary size \n",
        "\n",
        "voc_size = 500"
      ],
      "metadata": {
        "id": "TjQDuItaqwOy"
      },
      "execution_count": 37,
      "outputs": []
    },
    {
      "cell_type": "code",
      "source": [
        "## One-hot representation\n",
        "\n",
        "onehot_repr=[one_hot(words,voc_size)for words in sentences] \n",
        "print(onehot_repr)"
      ],
      "metadata": {
        "colab": {
          "base_uri": "https://localhost:8080/"
        },
        "id": "5vyXtQFCq0-6",
        "outputId": "d690f532-f3ab-46e8-99f1-56d6eb27d2ce"
      },
      "execution_count": 38,
      "outputs": [
        {
          "output_type": "stream",
          "name": "stdout",
          "text": [
            "[[24, 1, 29, 345, 305, 330], [60, 143, 29, 250, 449, 216], [53, 26, 102, 173], [24, 381, 29, 458, 24, 417], [33, 203, 290, 29, 250, 449, 216], [362, 29, 250, 449, 106, 436]]\n"
          ]
        }
      ]
    },
    {
      "cell_type": "markdown",
      "source": [
        "## Word Embedding \n",
        "\n",
        "## Pre Padding"
      ],
      "metadata": {
        "id": "DvxI4wParTV1"
      }
    },
    {
      "cell_type": "code",
      "source": [
        "len(sentences)"
      ],
      "metadata": {
        "colab": {
          "base_uri": "https://localhost:8080/"
        },
        "id": "wBPmvJNMrO91",
        "outputId": "53029d8d-beaf-44d8-f804-4de72b73a533"
      },
      "execution_count": 39,
      "outputs": [
        {
          "output_type": "execute_result",
          "data": {
            "text/plain": [
              "6"
            ]
          },
          "metadata": {},
          "execution_count": 39
        }
      ]
    },
    {
      "cell_type": "code",
      "source": [
        "sent_length = 10"
      ],
      "metadata": {
        "id": "Nv-gk3BXrcDz"
      },
      "execution_count": 40,
      "outputs": []
    },
    {
      "cell_type": "code",
      "source": [
        "embedded_layer = pad_sequences(onehot_repr, padding='pre', maxlen=sent_length)\n",
        "\n",
        "print(embedded_layer)"
      ],
      "metadata": {
        "colab": {
          "base_uri": "https://localhost:8080/"
        },
        "id": "SDmrTfqNreKk",
        "outputId": "988c927f-7bf8-449b-e292-5aaeaedba1be"
      },
      "execution_count": 41,
      "outputs": [
        {
          "output_type": "stream",
          "name": "stdout",
          "text": [
            "[[  0   0   0   0  24   1  29 345 305 330]\n",
            " [  0   0   0   0  60 143  29 250 449 216]\n",
            " [  0   0   0   0   0   0  53  26 102 173]\n",
            " [  0   0   0   0  24 381  29 458  24 417]\n",
            " [  0   0   0  33 203 290  29 250 449 216]\n",
            " [  0   0   0   0 362  29 250 449 106 436]]\n"
          ]
        }
      ]
    },
    {
      "cell_type": "code",
      "source": [
        "dim = 10"
      ],
      "metadata": {
        "id": "CWbqkqdCr2kq"
      },
      "execution_count": 42,
      "outputs": []
    },
    {
      "cell_type": "code",
      "source": [
        "## Create the model\n",
        "\n",
        "model_1 = Sequential()\n",
        "\n",
        "model_1.add(Embedding(voc_size, 10, input_length=sent_length))\n",
        "\n",
        "model_1.compile('adam', 'mse')"
      ],
      "metadata": {
        "id": "7Il6cLrsr6yU"
      },
      "execution_count": 47,
      "outputs": []
    },
    {
      "cell_type": "code",
      "source": [
        "model_1.summary()"
      ],
      "metadata": {
        "colab": {
          "base_uri": "https://localhost:8080/"
        },
        "id": "7gXrVuaWsTgn",
        "outputId": "ec83f456-8c64-4ac9-b4b0-005c1d2f66f9"
      },
      "execution_count": 48,
      "outputs": [
        {
          "output_type": "stream",
          "name": "stdout",
          "text": [
            "Model: \"sequential_4\"\n",
            "_________________________________________________________________\n",
            " Layer (type)                Output Shape              Param #   \n",
            "=================================================================\n",
            " embedding_3 (Embedding)     (None, 10, 10)            5000      \n",
            "                                                                 \n",
            "=================================================================\n",
            "Total params: 5,000\n",
            "Trainable params: 5,000\n",
            "Non-trainable params: 0\n",
            "_________________________________________________________________\n"
          ]
        }
      ]
    },
    {
      "cell_type": "code",
      "source": [
        "print((model_1.predict(embedded_layer)))"
      ],
      "metadata": {
        "colab": {
          "base_uri": "https://localhost:8080/"
        },
        "id": "o57EvjjusrCw",
        "outputId": "775a1bbe-87ed-47f3-daf1-0b64007805e6"
      },
      "execution_count": 49,
      "outputs": [
        {
          "output_type": "stream",
          "name": "stdout",
          "text": [
            "1/1 [==============================] - 0s 36ms/step\n",
            "[[[-0.01087321 -0.01471263 -0.04918385  0.01761551 -0.02410309\n",
            "   -0.00622088  0.0090157   0.02566952  0.01207119  0.01509565]\n",
            "  [-0.01087321 -0.01471263 -0.04918385  0.01761551 -0.02410309\n",
            "   -0.00622088  0.0090157   0.02566952  0.01207119  0.01509565]\n",
            "  [-0.01087321 -0.01471263 -0.04918385  0.01761551 -0.02410309\n",
            "   -0.00622088  0.0090157   0.02566952  0.01207119  0.01509565]\n",
            "  [-0.01087321 -0.01471263 -0.04918385  0.01761551 -0.02410309\n",
            "   -0.00622088  0.0090157   0.02566952  0.01207119  0.01509565]\n",
            "  [-0.03870965 -0.02665251 -0.01604303  0.03413187  0.02118761\n",
            "   -0.03043215  0.03084027  0.03437665  0.04144642 -0.03121346]\n",
            "  [ 0.03997518 -0.02842474 -0.03404038 -0.03429512  0.0445424\n",
            "    0.02414997 -0.03045487  0.02242026  0.03402854 -0.03524588]\n",
            "  [ 0.03176376  0.01309195  0.01526947  0.02500725  0.01826406\n",
            "   -0.04296391  0.03498873 -0.01757892  0.03398154  0.00093329]\n",
            "  [ 0.02824536 -0.03531535 -0.00998791  0.04104115  0.04072075\n",
            "   -0.04017625 -0.01403837  0.01922443 -0.0081503  -0.03292235]\n",
            "  [ 0.01044297 -0.02886235  0.04130277 -0.00561603 -0.03550082\n",
            "   -0.0376947  -0.01666296 -0.04572431 -0.0052801   0.0363966 ]\n",
            "  [-0.02746725  0.03378582 -0.00807921 -0.0135163   0.042617\n",
            "   -0.02572218  0.04373309 -0.02823083  0.00254831  0.00338129]]\n",
            "\n",
            " [[-0.01087321 -0.01471263 -0.04918385  0.01761551 -0.02410309\n",
            "   -0.00622088  0.0090157   0.02566952  0.01207119  0.01509565]\n",
            "  [-0.01087321 -0.01471263 -0.04918385  0.01761551 -0.02410309\n",
            "   -0.00622088  0.0090157   0.02566952  0.01207119  0.01509565]\n",
            "  [-0.01087321 -0.01471263 -0.04918385  0.01761551 -0.02410309\n",
            "   -0.00622088  0.0090157   0.02566952  0.01207119  0.01509565]\n",
            "  [-0.01087321 -0.01471263 -0.04918385  0.01761551 -0.02410309\n",
            "   -0.00622088  0.0090157   0.02566952  0.01207119  0.01509565]\n",
            "  [-0.02810106  0.01156291 -0.03828336  0.04737541 -0.00330257\n",
            "   -0.01152171  0.02294253  0.00283375  0.00520451  0.01501748]\n",
            "  [ 0.03425913 -0.00439189 -0.01413188 -0.04662522  0.03790876\n",
            "    0.01680009 -0.00780352 -0.01042084 -0.04605963  0.04857726]\n",
            "  [ 0.03176376  0.01309195  0.01526947  0.02500725  0.01826406\n",
            "   -0.04296391  0.03498873 -0.01757892  0.03398154  0.00093329]\n",
            "  [ 0.02357056  0.02074014 -0.00684213  0.04545463 -0.0062902\n",
            "    0.01628038  0.02530359 -0.02721777  0.03545418  0.02626908]\n",
            "  [-0.01175786  0.03685785 -0.03996586  0.01222859 -0.04976189\n",
            "    0.01050124 -0.04536248 -0.01768042 -0.01293199  0.03029523]\n",
            "  [ 0.01401247  0.02777359  0.01391882 -0.04001944 -0.02521714\n",
            "   -0.03690203 -0.02652523 -0.01273471 -0.0246995   0.01988498]]\n",
            "\n",
            " [[-0.01087321 -0.01471263 -0.04918385  0.01761551 -0.02410309\n",
            "   -0.00622088  0.0090157   0.02566952  0.01207119  0.01509565]\n",
            "  [-0.01087321 -0.01471263 -0.04918385  0.01761551 -0.02410309\n",
            "   -0.00622088  0.0090157   0.02566952  0.01207119  0.01509565]\n",
            "  [-0.01087321 -0.01471263 -0.04918385  0.01761551 -0.02410309\n",
            "   -0.00622088  0.0090157   0.02566952  0.01207119  0.01509565]\n",
            "  [-0.01087321 -0.01471263 -0.04918385  0.01761551 -0.02410309\n",
            "   -0.00622088  0.0090157   0.02566952  0.01207119  0.01509565]\n",
            "  [-0.01087321 -0.01471263 -0.04918385  0.01761551 -0.02410309\n",
            "   -0.00622088  0.0090157   0.02566952  0.01207119  0.01509565]\n",
            "  [-0.01087321 -0.01471263 -0.04918385  0.01761551 -0.02410309\n",
            "   -0.00622088  0.0090157   0.02566952  0.01207119  0.01509565]\n",
            "  [ 0.02815989 -0.04702953 -0.02158512  0.01639216  0.02823237\n",
            "   -0.02575312 -0.04429701 -0.01063397  0.01863023 -0.00639794]\n",
            "  [-0.03997952 -0.04585339  0.02316655 -0.02700031  0.02464003\n",
            "    0.01509764  0.02718742 -0.02179865 -0.00559617  0.01868301]\n",
            "  [-0.04049351 -0.0054303   0.01353015  0.00657759 -0.0062516\n",
            "    0.01815933  0.02054218  0.03100837  0.03774664 -0.0051211 ]\n",
            "  [ 0.04950187 -0.01440533  0.0151078   0.01651026  0.01783672\n",
            "   -0.0299346   0.0037948   0.01732555  0.04262901  0.03356621]]\n",
            "\n",
            " [[-0.01087321 -0.01471263 -0.04918385  0.01761551 -0.02410309\n",
            "   -0.00622088  0.0090157   0.02566952  0.01207119  0.01509565]\n",
            "  [-0.01087321 -0.01471263 -0.04918385  0.01761551 -0.02410309\n",
            "   -0.00622088  0.0090157   0.02566952  0.01207119  0.01509565]\n",
            "  [-0.01087321 -0.01471263 -0.04918385  0.01761551 -0.02410309\n",
            "   -0.00622088  0.0090157   0.02566952  0.01207119  0.01509565]\n",
            "  [-0.01087321 -0.01471263 -0.04918385  0.01761551 -0.02410309\n",
            "   -0.00622088  0.0090157   0.02566952  0.01207119  0.01509565]\n",
            "  [-0.03870965 -0.02665251 -0.01604303  0.03413187  0.02118761\n",
            "   -0.03043215  0.03084027  0.03437665  0.04144642 -0.03121346]\n",
            "  [ 0.02779657 -0.027581    0.04807078 -0.04063211  0.03465129\n",
            "    0.02990589  0.01115155  0.02231753  0.00907058 -0.0291952 ]\n",
            "  [ 0.03176376  0.01309195  0.01526947  0.02500725  0.01826406\n",
            "   -0.04296391  0.03498873 -0.01757892  0.03398154  0.00093329]\n",
            "  [ 0.00349651  0.00483031  0.02791714 -0.02422674  0.00072984\n",
            "   -0.0142482   0.02107554 -0.03085455 -0.04804495  0.01538703]\n",
            "  [-0.03870965 -0.02665251 -0.01604303  0.03413187  0.02118761\n",
            "   -0.03043215  0.03084027  0.03437665  0.04144642 -0.03121346]\n",
            "  [ 0.03455463 -0.01674021 -0.00018051 -0.01757913  0.0290832\n",
            "   -0.02723791  0.02175546 -0.03980695  0.02436375 -0.02930414]]\n",
            "\n",
            " [[-0.01087321 -0.01471263 -0.04918385  0.01761551 -0.02410309\n",
            "   -0.00622088  0.0090157   0.02566952  0.01207119  0.01509565]\n",
            "  [-0.01087321 -0.01471263 -0.04918385  0.01761551 -0.02410309\n",
            "   -0.00622088  0.0090157   0.02566952  0.01207119  0.01509565]\n",
            "  [-0.01087321 -0.01471263 -0.04918385  0.01761551 -0.02410309\n",
            "   -0.00622088  0.0090157   0.02566952  0.01207119  0.01509565]\n",
            "  [-0.02114565 -0.02237674 -0.01188091 -0.00983919  0.01976105\n",
            "    0.03220398 -0.04348999 -0.02154526 -0.00131481  0.00898635]\n",
            "  [ 0.01147076 -0.04278545  0.0492456  -0.03330373  0.04390694\n",
            "   -0.00581507 -0.00489588 -0.02839172  0.01574978 -0.04801675]\n",
            "  [ 0.01366157  0.01106255  0.03154406 -0.01230757 -0.00899664\n",
            "   -0.04814321  0.01472399  0.00382471  0.03220035  0.00874505]\n",
            "  [ 0.03176376  0.01309195  0.01526947  0.02500725  0.01826406\n",
            "   -0.04296391  0.03498873 -0.01757892  0.03398154  0.00093329]\n",
            "  [ 0.02357056  0.02074014 -0.00684213  0.04545463 -0.0062902\n",
            "    0.01628038  0.02530359 -0.02721777  0.03545418  0.02626908]\n",
            "  [-0.01175786  0.03685785 -0.03996586  0.01222859 -0.04976189\n",
            "    0.01050124 -0.04536248 -0.01768042 -0.01293199  0.03029523]\n",
            "  [ 0.01401247  0.02777359  0.01391882 -0.04001944 -0.02521714\n",
            "   -0.03690203 -0.02652523 -0.01273471 -0.0246995   0.01988498]]\n",
            "\n",
            " [[-0.01087321 -0.01471263 -0.04918385  0.01761551 -0.02410309\n",
            "   -0.00622088  0.0090157   0.02566952  0.01207119  0.01509565]\n",
            "  [-0.01087321 -0.01471263 -0.04918385  0.01761551 -0.02410309\n",
            "   -0.00622088  0.0090157   0.02566952  0.01207119  0.01509565]\n",
            "  [-0.01087321 -0.01471263 -0.04918385  0.01761551 -0.02410309\n",
            "   -0.00622088  0.0090157   0.02566952  0.01207119  0.01509565]\n",
            "  [-0.01087321 -0.01471263 -0.04918385  0.01761551 -0.02410309\n",
            "   -0.00622088  0.0090157   0.02566952  0.01207119  0.01509565]\n",
            "  [ 0.00597782  0.03278873  0.02183071  0.00399987  0.01204147\n",
            "   -0.01995322 -0.04420841 -0.00690577 -0.04510949 -0.04906451]\n",
            "  [ 0.03176376  0.01309195  0.01526947  0.02500725  0.01826406\n",
            "   -0.04296391  0.03498873 -0.01757892  0.03398154  0.00093329]\n",
            "  [ 0.02357056  0.02074014 -0.00684213  0.04545463 -0.0062902\n",
            "    0.01628038  0.02530359 -0.02721777  0.03545418  0.02626908]\n",
            "  [-0.01175786  0.03685785 -0.03996586  0.01222859 -0.04976189\n",
            "    0.01050124 -0.04536248 -0.01768042 -0.01293199  0.03029523]\n",
            "  [ 0.01612687  0.01681108 -0.02985064  0.03287042  0.04748264\n",
            "   -0.01275053 -0.03010113 -0.04934921 -0.03919761 -0.03235569]\n",
            "  [ 0.03239253 -0.03866631  0.04500225 -0.04593817  0.03386109\n",
            "    0.03075639 -0.02435728 -0.03171514 -0.02414615 -0.0086467 ]]]\n"
          ]
        }
      ]
    },
    {
      "cell_type": "code",
      "source": [],
      "metadata": {
        "id": "OFzN5hDJs6pc"
      },
      "execution_count": null,
      "outputs": []
    }
  ]
}