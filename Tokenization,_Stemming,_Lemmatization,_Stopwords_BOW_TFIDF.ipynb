{
  "nbformat": 4,
  "nbformat_minor": 0,
  "metadata": {
    "colab": {
      "provenance": [],
      "authorship_tag": "ABX9TyPeE70xBGXiAEDUg8szFvA/",
      "include_colab_link": true
    },
    "kernelspec": {
      "name": "python3",
      "display_name": "Python 3"
    },
    "language_info": {
      "name": "python"
    }
  },
  "cells": [
    {
      "cell_type": "markdown",
      "metadata": {
        "id": "view-in-github",
        "colab_type": "text"
      },
      "source": [
        "<a href=\"https://colab.research.google.com/github/gbiamgaurav/NLP/blob/main/Tokenization%2C_Stemming%2C_Lemmatization%2C_Stopwords_BOW_TFIDF.ipynb\" target=\"_parent\"><img src=\"https://colab.research.google.com/assets/colab-badge.svg\" alt=\"Open In Colab\"/></a>"
      ]
    },
    {
      "cell_type": "code",
      "execution_count": 49,
      "metadata": {
        "id": "FHib67EJzhy-"
      },
      "outputs": [],
      "source": [
        "#!pip install nltk"
      ]
    },
    {
      "cell_type": "code",
      "source": [
        "paragraph = ''' Narendra Damodardas Modi (Gujarati: [ˈnəɾendɾə dɑmodəɾˈdɑs ˈmodiː] (listen); born 17 September 1950)[b] is an Indian politician serving as the 14th and current Prime Minister of India since 2014. Modi was the Chief Minister of Gujarat from 2001 to 2014 and is the Member of Parliament from Varanasi. He is a member of the Bharatiya Janata Party (BJP) and of the Rashtriya Swayamsevak Sangh (RSS), a right-wing Hindu nationalist paramilitary volunteer organisation. He is the longest serving prime minister from outside the Indian National Congress.\n",
        "\n",
        "Modi was born and raised in Vadnagar in northeastern Gujarat, where he completed his secondary education. He was introduced to the RSS at age eight. He has reminisced about helping out after school at his father's tea stall at the Vadnagar railway station. At age 18, Modi was married to Jashodaben Chimanlal Modi, whom he abandoned soon after. He first publicly acknowledged her as his wife more than four decades later when required to do so by Indian law, but has made no contact with her since. Modi has asserted he had travelled in northern India for two years after leaving his parental home, visiting a number of religious centres, but few details of his travels have emerged. Upon his return to Gujarat in 1971, he became a full-time worker for the RSS. After the state of emergency was declared by prime minister Indira Gandhi in 1975, Modi went into hiding. The RSS assigned him to the BJP in 1985 and he held several positions within the party hierarchy until 2001, rising to the rank of general secretary.[c] '''"
      ],
      "metadata": {
        "id": "Y3dxIOfI0CMY"
      },
      "execution_count": 50,
      "outputs": []
    },
    {
      "cell_type": "code",
      "source": [
        "paragraph"
      ],
      "metadata": {
        "colab": {
          "base_uri": "https://localhost:8080/",
          "height": 144
        },
        "id": "cNX3LLkn0OV2",
        "outputId": "0e2c5150-8a8f-4ab8-f11c-4b64774b55f2"
      },
      "execution_count": 51,
      "outputs": [
        {
          "output_type": "execute_result",
          "data": {
            "text/plain": [
              "\" Narendra Damodardas Modi (Gujarati: [ˈnəɾendɾə dɑmodəɾˈdɑs ˈmodiː] (listen); born 17 September 1950)[b] is an Indian politician serving as the 14th and current Prime Minister of India since 2014. Modi was the Chief Minister of Gujarat from 2001 to 2014 and is the Member of Parliament from Varanasi. He is a member of the Bharatiya Janata Party (BJP) and of the Rashtriya Swayamsevak Sangh (RSS), a right-wing Hindu nationalist paramilitary volunteer organisation. He is the longest serving prime minister from outside the Indian National Congress.\\n\\nModi was born and raised in Vadnagar in northeastern Gujarat, where he completed his secondary education. He was introduced to the RSS at age eight. He has reminisced about helping out after school at his father's tea stall at the Vadnagar railway station. At age 18, Modi was married to Jashodaben Chimanlal Modi, whom he abandoned soon after. He first publicly acknowledged her as his wife more than four decades later when required to do so by Indian law, but has made no contact with her since. Modi has asserted he had travelled in northern India for two years after leaving his parental home, visiting a number of religious centres, but few details of his travels have emerged. Upon his return to Gujarat in 1971, he became a full-time worker for the RSS. After the state of emergency was declared by prime minister Indira Gandhi in 1975, Modi went into hiding. The RSS assigned him to the BJP in 1985 and he held several positions within the party hierarchy until 2001, rising to the rank of general secretary.[c] \""
            ],
            "application/vnd.google.colaboratory.intrinsic+json": {
              "type": "string"
            }
          },
          "metadata": {},
          "execution_count": 51
        }
      ]
    },
    {
      "cell_type": "code",
      "source": [
        "import nltk\n",
        "from nltk.stem import PorterStemmer\n",
        "from nltk.corpus import stopwords"
      ],
      "metadata": {
        "id": "VyfADieg0RoZ"
      },
      "execution_count": 52,
      "outputs": []
    },
    {
      "cell_type": "markdown",
      "source": [
        "## Tokenization - converts paragraph into sentences and then words"
      ],
      "metadata": {
        "id": "LxJggCiN0tCv"
      }
    },
    {
      "cell_type": "code",
      "source": [
        "nltk.download('punkt')"
      ],
      "metadata": {
        "colab": {
          "base_uri": "https://localhost:8080/"
        },
        "id": "wneoJmCv0mU3",
        "outputId": "7811fdd4-61ee-4ebe-ec6d-8d1183b5869d"
      },
      "execution_count": 53,
      "outputs": [
        {
          "output_type": "stream",
          "name": "stderr",
          "text": [
            "[nltk_data] Downloading package punkt to /root/nltk_data...\n",
            "[nltk_data]   Package punkt is already up-to-date!\n"
          ]
        },
        {
          "output_type": "execute_result",
          "data": {
            "text/plain": [
              "True"
            ]
          },
          "metadata": {},
          "execution_count": 53
        }
      ]
    },
    {
      "cell_type": "code",
      "source": [
        "sentences = nltk.sent_tokenize(paragraph)"
      ],
      "metadata": {
        "id": "Lhx0xOu408HH"
      },
      "execution_count": 54,
      "outputs": []
    },
    {
      "cell_type": "code",
      "source": [
        "print(sentences)"
      ],
      "metadata": {
        "colab": {
          "base_uri": "https://localhost:8080/"
        },
        "id": "Y-7xm0781Hm0",
        "outputId": "763ad403-0827-45ae-fccc-af2bbaf1ad79"
      },
      "execution_count": 55,
      "outputs": [
        {
          "output_type": "stream",
          "name": "stdout",
          "text": [
            "[' Narendra Damodardas Modi (Gujarati: [ˈnəɾendɾə dɑmodəɾˈdɑs ˈmodiː] (listen); born 17 September 1950)[b] is an Indian politician serving as the 14th and current Prime Minister of India since 2014.', 'Modi was the Chief Minister of Gujarat from 2001 to 2014 and is the Member of Parliament from Varanasi.', 'He is a member of the Bharatiya Janata Party (BJP) and of the Rashtriya Swayamsevak Sangh (RSS), a right-wing Hindu nationalist paramilitary volunteer organisation.', 'He is the longest serving prime minister from outside the Indian National Congress.', 'Modi was born and raised in Vadnagar in northeastern Gujarat, where he completed his secondary education.', 'He was introduced to the RSS at age eight.', \"He has reminisced about helping out after school at his father's tea stall at the Vadnagar railway station.\", 'At age 18, Modi was married to Jashodaben Chimanlal Modi, whom he abandoned soon after.', 'He first publicly acknowledged her as his wife more than four decades later when required to do so by Indian law, but has made no contact with her since.', 'Modi has asserted he had travelled in northern India for two years after leaving his parental home, visiting a number of religious centres, but few details of his travels have emerged.', 'Upon his return to Gujarat in 1971, he became a full-time worker for the RSS.', 'After the state of emergency was declared by prime minister Indira Gandhi in 1975, Modi went into hiding.', 'The RSS assigned him to the BJP in 1985 and he held several positions within the party hierarchy until 2001, rising to the rank of general secretary.', '[c]']\n"
          ]
        }
      ]
    },
    {
      "cell_type": "code",
      "source": [
        "type(sentences)"
      ],
      "metadata": {
        "colab": {
          "base_uri": "https://localhost:8080/"
        },
        "id": "IOKdzBYa1O2_",
        "outputId": "1941c1c4-a7fd-4504-90e6-41515a23778d"
      },
      "execution_count": 56,
      "outputs": [
        {
          "output_type": "execute_result",
          "data": {
            "text/plain": [
              "list"
            ]
          },
          "metadata": {},
          "execution_count": 56
        }
      ]
    },
    {
      "cell_type": "code",
      "source": [
        "sentences[0]"
      ],
      "metadata": {
        "colab": {
          "base_uri": "https://localhost:8080/",
          "height": 54
        },
        "id": "nLx3zKGb1RK6",
        "outputId": "f906ab69-c42b-4c50-a669-1e2d90cca60e"
      },
      "execution_count": 57,
      "outputs": [
        {
          "output_type": "execute_result",
          "data": {
            "text/plain": [
              "' Narendra Damodardas Modi (Gujarati: [ˈnəɾendɾə dɑmodəɾˈdɑs ˈmodiː] (listen); born 17 September 1950)[b] is an Indian politician serving as the 14th and current Prime Minister of India since 2014.'"
            ],
            "application/vnd.google.colaboratory.intrinsic+json": {
              "type": "string"
            }
          },
          "metadata": {},
          "execution_count": 57
        }
      ]
    },
    {
      "cell_type": "code",
      "source": [
        "len(sentences)"
      ],
      "metadata": {
        "colab": {
          "base_uri": "https://localhost:8080/"
        },
        "id": "SvAahMwI1WEr",
        "outputId": "e77b8cd9-c364-4dac-83a7-2e6a1e35cbfa"
      },
      "execution_count": 58,
      "outputs": [
        {
          "output_type": "execute_result",
          "data": {
            "text/plain": [
              "14"
            ]
          },
          "metadata": {},
          "execution_count": 58
        }
      ]
    },
    {
      "cell_type": "markdown",
      "source": [
        "## Stemming - Finding the base root word"
      ],
      "metadata": {
        "id": "mIg9iOP01hH9"
      }
    },
    {
      "cell_type": "code",
      "source": [
        "stemmer = PorterStemmer()"
      ],
      "metadata": {
        "id": "cTlL7KPI1YPg"
      },
      "execution_count": 59,
      "outputs": []
    },
    {
      "cell_type": "code",
      "source": [
        "stemmer.stem('thinking')"
      ],
      "metadata": {
        "colab": {
          "base_uri": "https://localhost:8080/",
          "height": 36
        },
        "id": "Hbxqmb6Z1sJJ",
        "outputId": "0bd2858d-a34a-48bb-d2fc-ac2d9523fea1"
      },
      "execution_count": 60,
      "outputs": [
        {
          "output_type": "execute_result",
          "data": {
            "text/plain": [
              "'think'"
            ],
            "application/vnd.google.colaboratory.intrinsic+json": {
              "type": "string"
            }
          },
          "metadata": {},
          "execution_count": 60
        }
      ]
    },
    {
      "cell_type": "code",
      "source": [
        "stemmer.stem('finalized')"
      ],
      "metadata": {
        "colab": {
          "base_uri": "https://localhost:8080/",
          "height": 36
        },
        "id": "SaTt_vnw1usR",
        "outputId": "38e765c3-7327-4b1c-a220-f88cefba5bb1"
      },
      "execution_count": 61,
      "outputs": [
        {
          "output_type": "execute_result",
          "data": {
            "text/plain": [
              "'final'"
            ],
            "application/vnd.google.colaboratory.intrinsic+json": {
              "type": "string"
            }
          },
          "metadata": {},
          "execution_count": 61
        }
      ]
    },
    {
      "cell_type": "code",
      "source": [
        "stemmer.stem('going')"
      ],
      "metadata": {
        "colab": {
          "base_uri": "https://localhost:8080/",
          "height": 36
        },
        "id": "2A-EVeth1xpJ",
        "outputId": "b726da4f-4279-4185-d5fc-3b7fdd8ca853"
      },
      "execution_count": 62,
      "outputs": [
        {
          "output_type": "execute_result",
          "data": {
            "text/plain": [
              "'go'"
            ],
            "application/vnd.google.colaboratory.intrinsic+json": {
              "type": "string"
            }
          },
          "metadata": {},
          "execution_count": 62
        }
      ]
    },
    {
      "cell_type": "code",
      "source": [
        "stemmer.stem('drinking')"
      ],
      "metadata": {
        "colab": {
          "base_uri": "https://localhost:8080/",
          "height": 36
        },
        "id": "q8R_2NNv11_D",
        "outputId": "caa61e7c-58b7-4dc9-8273-2421db522e71"
      },
      "execution_count": 63,
      "outputs": [
        {
          "output_type": "execute_result",
          "data": {
            "text/plain": [
              "'drink'"
            ],
            "application/vnd.google.colaboratory.intrinsic+json": {
              "type": "string"
            }
          },
          "metadata": {},
          "execution_count": 63
        }
      ]
    },
    {
      "cell_type": "code",
      "source": [
        "stemmer.stem('history')"
      ],
      "metadata": {
        "colab": {
          "base_uri": "https://localhost:8080/",
          "height": 36
        },
        "id": "_8OoDKtc17mi",
        "outputId": "ffcd07aa-4274-44ca-ab14-bb69fa2309b0"
      },
      "execution_count": 64,
      "outputs": [
        {
          "output_type": "execute_result",
          "data": {
            "text/plain": [
              "'histori'"
            ],
            "application/vnd.google.colaboratory.intrinsic+json": {
              "type": "string"
            }
          },
          "metadata": {},
          "execution_count": 64
        }
      ]
    },
    {
      "cell_type": "markdown",
      "source": [
        "## Lemmatization - Getting a meaningful word"
      ],
      "metadata": {
        "id": "yATRldSP2QRj"
      }
    },
    {
      "cell_type": "code",
      "source": [
        "from nltk.stem import WordNetLemmatizer\n",
        "\n",
        "import nltk\n",
        "nltk.download('wordnet')"
      ],
      "metadata": {
        "colab": {
          "base_uri": "https://localhost:8080/"
        },
        "id": "w3EGWoLv2LwB",
        "outputId": "ef424177-043a-47d6-a01b-22c098cd8db9"
      },
      "execution_count": 65,
      "outputs": [
        {
          "output_type": "stream",
          "name": "stderr",
          "text": [
            "[nltk_data] Downloading package wordnet to /root/nltk_data...\n",
            "[nltk_data]   Package wordnet is already up-to-date!\n"
          ]
        },
        {
          "output_type": "execute_result",
          "data": {
            "text/plain": [
              "True"
            ]
          },
          "metadata": {},
          "execution_count": 65
        }
      ]
    },
    {
      "cell_type": "code",
      "source": [
        "lemmatizer = WordNetLemmatizer()"
      ],
      "metadata": {
        "id": "kEecFTnV2frM"
      },
      "execution_count": 66,
      "outputs": []
    },
    {
      "cell_type": "code",
      "source": [
        "lemmatizer.lemmatize('history')"
      ],
      "metadata": {
        "colab": {
          "base_uri": "https://localhost:8080/",
          "height": 36
        },
        "id": "8WtPnAnq2k-l",
        "outputId": "a008e9c3-3ad6-4221-9d7e-49b388301141"
      },
      "execution_count": 67,
      "outputs": [
        {
          "output_type": "execute_result",
          "data": {
            "text/plain": [
              "'history'"
            ],
            "application/vnd.google.colaboratory.intrinsic+json": {
              "type": "string"
            }
          },
          "metadata": {},
          "execution_count": 67
        }
      ]
    },
    {
      "cell_type": "code",
      "source": [
        "lemmatizer.lemmatize('finalized')"
      ],
      "metadata": {
        "colab": {
          "base_uri": "https://localhost:8080/",
          "height": 36
        },
        "id": "ChdrpMnp2pjV",
        "outputId": "c521f20c-65d0-4359-ad02-c987fa18d885"
      },
      "execution_count": 68,
      "outputs": [
        {
          "output_type": "execute_result",
          "data": {
            "text/plain": [
              "'finalized'"
            ],
            "application/vnd.google.colaboratory.intrinsic+json": {
              "type": "string"
            }
          },
          "metadata": {},
          "execution_count": 68
        }
      ]
    },
    {
      "cell_type": "code",
      "source": [
        "lemmatizer.lemmatize('drinking')"
      ],
      "metadata": {
        "colab": {
          "base_uri": "https://localhost:8080/",
          "height": 36
        },
        "id": "sOsSjK8q227c",
        "outputId": "5dd45667-0bc9-47b8-d915-5adffad86825"
      },
      "execution_count": 69,
      "outputs": [
        {
          "output_type": "execute_result",
          "data": {
            "text/plain": [
              "'drinking'"
            ],
            "application/vnd.google.colaboratory.intrinsic+json": {
              "type": "string"
            }
          },
          "metadata": {},
          "execution_count": 69
        }
      ]
    },
    {
      "cell_type": "code",
      "source": [
        "lemmatizer.lemmatize('goes')"
      ],
      "metadata": {
        "colab": {
          "base_uri": "https://localhost:8080/",
          "height": 36
        },
        "id": "v8jrMelI27jB",
        "outputId": "a7093ea7-ce13-4190-8c02-2a66d0a9b025"
      },
      "execution_count": 70,
      "outputs": [
        {
          "output_type": "execute_result",
          "data": {
            "text/plain": [
              "'go'"
            ],
            "application/vnd.google.colaboratory.intrinsic+json": {
              "type": "string"
            }
          },
          "metadata": {},
          "execution_count": 70
        }
      ]
    },
    {
      "cell_type": "markdown",
      "source": [
        "## Clean the entire text"
      ],
      "metadata": {
        "id": "K08u516n3Gcs"
      }
    },
    {
      "cell_type": "code",
      "source": [
        "paragraph"
      ],
      "metadata": {
        "colab": {
          "base_uri": "https://localhost:8080/",
          "height": 144
        },
        "id": "JczKrQur3Bpr",
        "outputId": "972cf3f1-6656-4b80-d470-fd6be3dfd0bd"
      },
      "execution_count": 71,
      "outputs": [
        {
          "output_type": "execute_result",
          "data": {
            "text/plain": [
              "\" Narendra Damodardas Modi (Gujarati: [ˈnəɾendɾə dɑmodəɾˈdɑs ˈmodiː] (listen); born 17 September 1950)[b] is an Indian politician serving as the 14th and current Prime Minister of India since 2014. Modi was the Chief Minister of Gujarat from 2001 to 2014 and is the Member of Parliament from Varanasi. He is a member of the Bharatiya Janata Party (BJP) and of the Rashtriya Swayamsevak Sangh (RSS), a right-wing Hindu nationalist paramilitary volunteer organisation. He is the longest serving prime minister from outside the Indian National Congress.\\n\\nModi was born and raised in Vadnagar in northeastern Gujarat, where he completed his secondary education. He was introduced to the RSS at age eight. He has reminisced about helping out after school at his father's tea stall at the Vadnagar railway station. At age 18, Modi was married to Jashodaben Chimanlal Modi, whom he abandoned soon after. He first publicly acknowledged her as his wife more than four decades later when required to do so by Indian law, but has made no contact with her since. Modi has asserted he had travelled in northern India for two years after leaving his parental home, visiting a number of religious centres, but few details of his travels have emerged. Upon his return to Gujarat in 1971, he became a full-time worker for the RSS. After the state of emergency was declared by prime minister Indira Gandhi in 1975, Modi went into hiding. The RSS assigned him to the BJP in 1985 and he held several positions within the party hierarchy until 2001, rising to the rank of general secretary.[c] \""
            ],
            "application/vnd.google.colaboratory.intrinsic+json": {
              "type": "string"
            }
          },
          "metadata": {},
          "execution_count": 71
        }
      ]
    },
    {
      "cell_type": "code",
      "source": [
        "import re"
      ],
      "metadata": {
        "id": "peX5x1vh3KcW"
      },
      "execution_count": 72,
      "outputs": []
    },
    {
      "cell_type": "code",
      "source": [
        "corpus = []\n",
        "\n",
        "for i in range(len(sentences)):\n",
        "  review = re.sub('[^a-zA-Z]', ' ', sentences[i])\n",
        "  ## convert to lower\n",
        "  review=review.lower()\n",
        "  ## append in the corpus\n",
        "  corpus.append(review)"
      ],
      "metadata": {
        "id": "j6RIe7kS3Ygm"
      },
      "execution_count": 73,
      "outputs": []
    },
    {
      "cell_type": "code",
      "source": [
        "corpus"
      ],
      "metadata": {
        "colab": {
          "base_uri": "https://localhost:8080/"
        },
        "id": "qGssdGIn3zzR",
        "outputId": "2ac60f31-86e6-465d-9323-704b2629db92"
      },
      "execution_count": 74,
      "outputs": [
        {
          "output_type": "execute_result",
          "data": {
            "text/plain": [
              "[' narendra damodardas modi  gujarati    n  end   d mod   d s  modi    listen   born    september       b  is an indian politician serving as the   th and current prime minister of india since      ',\n",
              " 'modi was the chief minister of gujarat from      to      and is the member of parliament from varanasi ',\n",
              " 'he is a member of the bharatiya janata party  bjp  and of the rashtriya swayamsevak sangh  rss   a right wing hindu nationalist paramilitary volunteer organisation ',\n",
              " 'he is the longest serving prime minister from outside the indian national congress ',\n",
              " 'modi was born and raised in vadnagar in northeastern gujarat  where he completed his secondary education ',\n",
              " 'he was introduced to the rss at age eight ',\n",
              " 'he has reminisced about helping out after school at his father s tea stall at the vadnagar railway station ',\n",
              " 'at age     modi was married to jashodaben chimanlal modi  whom he abandoned soon after ',\n",
              " 'he first publicly acknowledged her as his wife more than four decades later when required to do so by indian law  but has made no contact with her since ',\n",
              " 'modi has asserted he had travelled in northern india for two years after leaving his parental home  visiting a number of religious centres  but few details of his travels have emerged ',\n",
              " 'upon his return to gujarat in       he became a full time worker for the rss ',\n",
              " 'after the state of emergency was declared by prime minister indira gandhi in       modi went into hiding ',\n",
              " 'the rss assigned him to the bjp in      and he held several positions within the party hierarchy until       rising to the rank of general secretary ',\n",
              " ' c ']"
            ]
          },
          "metadata": {},
          "execution_count": 74
        }
      ]
    },
    {
      "cell_type": "code",
      "source": [
        "len(corpus)"
      ],
      "metadata": {
        "colab": {
          "base_uri": "https://localhost:8080/"
        },
        "id": "RVBoJ9Oq31YB",
        "outputId": "d84d9a8a-5f2c-4397-a50e-4a6d388083e5"
      },
      "execution_count": 75,
      "outputs": [
        {
          "output_type": "execute_result",
          "data": {
            "text/plain": [
              "14"
            ]
          },
          "metadata": {},
          "execution_count": 75
        }
      ]
    },
    {
      "cell_type": "markdown",
      "source": [
        "## Apply Stemming"
      ],
      "metadata": {
        "id": "lKRoclOH3-vQ"
      }
    },
    {
      "cell_type": "code",
      "source": [
        "import nltk\n",
        "nltk.download('stopwords')"
      ],
      "metadata": {
        "colab": {
          "base_uri": "https://localhost:8080/"
        },
        "id": "h5IQwajF40G-",
        "outputId": "82d6d1b5-fbd8-4400-8e74-cfd66ba79f21"
      },
      "execution_count": 76,
      "outputs": [
        {
          "output_type": "stream",
          "name": "stderr",
          "text": [
            "[nltk_data] Downloading package stopwords to /root/nltk_data...\n",
            "[nltk_data]   Package stopwords is already up-to-date!\n"
          ]
        },
        {
          "output_type": "execute_result",
          "data": {
            "text/plain": [
              "True"
            ]
          },
          "metadata": {},
          "execution_count": 76
        }
      ]
    },
    {
      "cell_type": "code",
      "source": [
        "stopwords.words('english')"
      ],
      "metadata": {
        "colab": {
          "base_uri": "https://localhost:8080/"
        },
        "id": "uNalAFJG5Byv",
        "outputId": "1357b217-3180-4b88-e8a0-f2b79fa3571d"
      },
      "execution_count": 77,
      "outputs": [
        {
          "output_type": "execute_result",
          "data": {
            "text/plain": [
              "['i',\n",
              " 'me',\n",
              " 'my',\n",
              " 'myself',\n",
              " 'we',\n",
              " 'our',\n",
              " 'ours',\n",
              " 'ourselves',\n",
              " 'you',\n",
              " \"you're\",\n",
              " \"you've\",\n",
              " \"you'll\",\n",
              " \"you'd\",\n",
              " 'your',\n",
              " 'yours',\n",
              " 'yourself',\n",
              " 'yourselves',\n",
              " 'he',\n",
              " 'him',\n",
              " 'his',\n",
              " 'himself',\n",
              " 'she',\n",
              " \"she's\",\n",
              " 'her',\n",
              " 'hers',\n",
              " 'herself',\n",
              " 'it',\n",
              " \"it's\",\n",
              " 'its',\n",
              " 'itself',\n",
              " 'they',\n",
              " 'them',\n",
              " 'their',\n",
              " 'theirs',\n",
              " 'themselves',\n",
              " 'what',\n",
              " 'which',\n",
              " 'who',\n",
              " 'whom',\n",
              " 'this',\n",
              " 'that',\n",
              " \"that'll\",\n",
              " 'these',\n",
              " 'those',\n",
              " 'am',\n",
              " 'is',\n",
              " 'are',\n",
              " 'was',\n",
              " 'were',\n",
              " 'be',\n",
              " 'been',\n",
              " 'being',\n",
              " 'have',\n",
              " 'has',\n",
              " 'had',\n",
              " 'having',\n",
              " 'do',\n",
              " 'does',\n",
              " 'did',\n",
              " 'doing',\n",
              " 'a',\n",
              " 'an',\n",
              " 'the',\n",
              " 'and',\n",
              " 'but',\n",
              " 'if',\n",
              " 'or',\n",
              " 'because',\n",
              " 'as',\n",
              " 'until',\n",
              " 'while',\n",
              " 'of',\n",
              " 'at',\n",
              " 'by',\n",
              " 'for',\n",
              " 'with',\n",
              " 'about',\n",
              " 'against',\n",
              " 'between',\n",
              " 'into',\n",
              " 'through',\n",
              " 'during',\n",
              " 'before',\n",
              " 'after',\n",
              " 'above',\n",
              " 'below',\n",
              " 'to',\n",
              " 'from',\n",
              " 'up',\n",
              " 'down',\n",
              " 'in',\n",
              " 'out',\n",
              " 'on',\n",
              " 'off',\n",
              " 'over',\n",
              " 'under',\n",
              " 'again',\n",
              " 'further',\n",
              " 'then',\n",
              " 'once',\n",
              " 'here',\n",
              " 'there',\n",
              " 'when',\n",
              " 'where',\n",
              " 'why',\n",
              " 'how',\n",
              " 'all',\n",
              " 'any',\n",
              " 'both',\n",
              " 'each',\n",
              " 'few',\n",
              " 'more',\n",
              " 'most',\n",
              " 'other',\n",
              " 'some',\n",
              " 'such',\n",
              " 'no',\n",
              " 'nor',\n",
              " 'not',\n",
              " 'only',\n",
              " 'own',\n",
              " 'same',\n",
              " 'so',\n",
              " 'than',\n",
              " 'too',\n",
              " 'very',\n",
              " 's',\n",
              " 't',\n",
              " 'can',\n",
              " 'will',\n",
              " 'just',\n",
              " 'don',\n",
              " \"don't\",\n",
              " 'should',\n",
              " \"should've\",\n",
              " 'now',\n",
              " 'd',\n",
              " 'll',\n",
              " 'm',\n",
              " 'o',\n",
              " 're',\n",
              " 've',\n",
              " 'y',\n",
              " 'ain',\n",
              " 'aren',\n",
              " \"aren't\",\n",
              " 'couldn',\n",
              " \"couldn't\",\n",
              " 'didn',\n",
              " \"didn't\",\n",
              " 'doesn',\n",
              " \"doesn't\",\n",
              " 'hadn',\n",
              " \"hadn't\",\n",
              " 'hasn',\n",
              " \"hasn't\",\n",
              " 'haven',\n",
              " \"haven't\",\n",
              " 'isn',\n",
              " \"isn't\",\n",
              " 'ma',\n",
              " 'mightn',\n",
              " \"mightn't\",\n",
              " 'mustn',\n",
              " \"mustn't\",\n",
              " 'needn',\n",
              " \"needn't\",\n",
              " 'shan',\n",
              " \"shan't\",\n",
              " 'shouldn',\n",
              " \"shouldn't\",\n",
              " 'wasn',\n",
              " \"wasn't\",\n",
              " 'weren',\n",
              " \"weren't\",\n",
              " 'won',\n",
              " \"won't\",\n",
              " 'wouldn',\n",
              " \"wouldn't\"]"
            ]
          },
          "metadata": {},
          "execution_count": 77
        }
      ]
    },
    {
      "cell_type": "code",
      "source": [
        "## Stemming\n",
        "\n",
        "for i in corpus:\n",
        "  words = nltk.word_tokenize(i)\n",
        "\n",
        "  for word in words:\n",
        "    if word not in set(stopwords.words('english')):\n",
        "      print(stemmer.stem(word))"
      ],
      "metadata": {
        "colab": {
          "base_uri": "https://localhost:8080/"
        },
        "id": "tWtOkGNY36U4",
        "outputId": "338211b1-34f6-4c11-e78a-c6a77211e43d"
      },
      "execution_count": 78,
      "outputs": [
        {
          "output_type": "stream",
          "name": "stdout",
          "text": [
            "narendra\n",
            "damodarda\n",
            "modi\n",
            "gujarati\n",
            "n\n",
            "end\n",
            "mod\n",
            "modi\n",
            "listen\n",
            "born\n",
            "septemb\n",
            "b\n",
            "indian\n",
            "politician\n",
            "serv\n",
            "th\n",
            "current\n",
            "prime\n",
            "minist\n",
            "india\n",
            "sinc\n",
            "modi\n",
            "chief\n",
            "minist\n",
            "gujarat\n",
            "member\n",
            "parliament\n",
            "varanasi\n",
            "member\n",
            "bharatiya\n",
            "janata\n",
            "parti\n",
            "bjp\n",
            "rashtriya\n",
            "swayamsevak\n",
            "sangh\n",
            "rss\n",
            "right\n",
            "wing\n",
            "hindu\n",
            "nationalist\n",
            "paramilitari\n",
            "volunt\n",
            "organis\n",
            "longest\n",
            "serv\n",
            "prime\n",
            "minist\n",
            "outsid\n",
            "indian\n",
            "nation\n",
            "congress\n",
            "modi\n",
            "born\n",
            "rais\n",
            "vadnagar\n",
            "northeastern\n",
            "gujarat\n",
            "complet\n",
            "secondari\n",
            "educ\n",
            "introduc\n",
            "rss\n",
            "age\n",
            "eight\n",
            "reminisc\n",
            "help\n",
            "school\n",
            "father\n",
            "tea\n",
            "stall\n",
            "vadnagar\n",
            "railway\n",
            "station\n",
            "age\n",
            "modi\n",
            "marri\n",
            "jashodaben\n",
            "chimanl\n",
            "modi\n",
            "abandon\n",
            "soon\n",
            "first\n",
            "publicli\n",
            "acknowledg\n",
            "wife\n",
            "four\n",
            "decad\n",
            "later\n",
            "requir\n",
            "indian\n",
            "law\n",
            "made\n",
            "contact\n",
            "sinc\n",
            "modi\n",
            "assert\n",
            "travel\n",
            "northern\n",
            "india\n",
            "two\n",
            "year\n",
            "leav\n",
            "parent\n",
            "home\n",
            "visit\n",
            "number\n",
            "religi\n",
            "centr\n",
            "detail\n",
            "travel\n",
            "emerg\n",
            "upon\n",
            "return\n",
            "gujarat\n",
            "becam\n",
            "full\n",
            "time\n",
            "worker\n",
            "rss\n",
            "state\n",
            "emerg\n",
            "declar\n",
            "prime\n",
            "minist\n",
            "indira\n",
            "gandhi\n",
            "modi\n",
            "went\n",
            "hide\n",
            "rss\n",
            "assign\n",
            "bjp\n",
            "held\n",
            "sever\n",
            "posit\n",
            "within\n",
            "parti\n",
            "hierarchi\n",
            "rise\n",
            "rank\n",
            "gener\n",
            "secretari\n",
            "c\n"
          ]
        }
      ]
    },
    {
      "cell_type": "code",
      "source": [
        "## Lemmatization\n",
        "\n",
        "for i in corpus:\n",
        "  words = nltk.word_tokenize(i)\n",
        "\n",
        "  for word in words:\n",
        "    if word not in set(stopwords.words('english')):\n",
        "      print(lemmatizer.lemmatize(word))"
      ],
      "metadata": {
        "colab": {
          "base_uri": "https://localhost:8080/"
        },
        "id": "wnYWg5qG4Ibk",
        "outputId": "21971fe8-626b-4d3b-f687-fcdf831194e3"
      },
      "execution_count": 79,
      "outputs": [
        {
          "output_type": "stream",
          "name": "stdout",
          "text": [
            "narendra\n",
            "damodardas\n",
            "modi\n",
            "gujarati\n",
            "n\n",
            "end\n",
            "mod\n",
            "modi\n",
            "listen\n",
            "born\n",
            "september\n",
            "b\n",
            "indian\n",
            "politician\n",
            "serving\n",
            "th\n",
            "current\n",
            "prime\n",
            "minister\n",
            "india\n",
            "since\n",
            "modi\n",
            "chief\n",
            "minister\n",
            "gujarat\n",
            "member\n",
            "parliament\n",
            "varanasi\n",
            "member\n",
            "bharatiya\n",
            "janata\n",
            "party\n",
            "bjp\n",
            "rashtriya\n",
            "swayamsevak\n",
            "sangh\n",
            "r\n",
            "right\n",
            "wing\n",
            "hindu\n",
            "nationalist\n",
            "paramilitary\n",
            "volunteer\n",
            "organisation\n",
            "longest\n",
            "serving\n",
            "prime\n",
            "minister\n",
            "outside\n",
            "indian\n",
            "national\n",
            "congress\n",
            "modi\n",
            "born\n",
            "raised\n",
            "vadnagar\n",
            "northeastern\n",
            "gujarat\n",
            "completed\n",
            "secondary\n",
            "education\n",
            "introduced\n",
            "r\n",
            "age\n",
            "eight\n",
            "reminisced\n",
            "helping\n",
            "school\n",
            "father\n",
            "tea\n",
            "stall\n",
            "vadnagar\n",
            "railway\n",
            "station\n",
            "age\n",
            "modi\n",
            "married\n",
            "jashodaben\n",
            "chimanlal\n",
            "modi\n",
            "abandoned\n",
            "soon\n",
            "first\n",
            "publicly\n",
            "acknowledged\n",
            "wife\n",
            "four\n",
            "decade\n",
            "later\n",
            "required\n",
            "indian\n",
            "law\n",
            "made\n",
            "contact\n",
            "since\n",
            "modi\n",
            "asserted\n",
            "travelled\n",
            "northern\n",
            "india\n",
            "two\n",
            "year\n",
            "leaving\n",
            "parental\n",
            "home\n",
            "visiting\n",
            "number\n",
            "religious\n",
            "centre\n",
            "detail\n",
            "travel\n",
            "emerged\n",
            "upon\n",
            "return\n",
            "gujarat\n",
            "became\n",
            "full\n",
            "time\n",
            "worker\n",
            "r\n",
            "state\n",
            "emergency\n",
            "declared\n",
            "prime\n",
            "minister\n",
            "indira\n",
            "gandhi\n",
            "modi\n",
            "went\n",
            "hiding\n",
            "r\n",
            "assigned\n",
            "bjp\n",
            "held\n",
            "several\n",
            "position\n",
            "within\n",
            "party\n",
            "hierarchy\n",
            "rising\n",
            "rank\n",
            "general\n",
            "secretary\n",
            "c\n"
          ]
        }
      ]
    },
    {
      "cell_type": "markdown",
      "source": [
        "## Bag of Words (BOW)"
      ],
      "metadata": {
        "id": "QgTNtqPU5hG7"
      }
    },
    {
      "cell_type": "code",
      "source": [
        "## Apply Stopwords\n",
        "\n",
        "import re\n",
        "\n",
        "corpus = []\n",
        "\n",
        "for i in range(len(sentences)):\n",
        "  review = re.sub('[^a-zA-Z]', ' ', sentences[i])\n",
        "  review = review.lower()\n",
        "  review = review.split()\n",
        "  review = [lemmatizer.lemmatize(word) for word in review if word not in set(stopwords.words('english'))]\n",
        "  review = ' '.join(review)\n",
        "  corpus.append(review)"
      ],
      "metadata": {
        "id": "CrE4d28X6wYm"
      },
      "execution_count": 80,
      "outputs": []
    },
    {
      "cell_type": "code",
      "source": [
        "from sklearn.feature_extraction.text import CountVectorizer"
      ],
      "metadata": {
        "id": "zwmjO4RM5cvN"
      },
      "execution_count": 81,
      "outputs": []
    },
    {
      "cell_type": "code",
      "source": [
        "cv = CountVectorizer()"
      ],
      "metadata": {
        "id": "wRmPaMi05r-G"
      },
      "execution_count": 82,
      "outputs": []
    },
    {
      "cell_type": "code",
      "source": [
        "X = cv.fit_transform(corpus)"
      ],
      "metadata": {
        "id": "P-48Atav5u_N"
      },
      "execution_count": 83,
      "outputs": []
    },
    {
      "cell_type": "code",
      "source": [
        "cv.vocabulary_"
      ],
      "metadata": {
        "colab": {
          "base_uri": "https://localhost:8080/"
        },
        "id": "dJZn766j5038",
        "outputId": "63b7d43b-45b1-485a-b5d1-fd2b405e17a6"
      },
      "execution_count": 84,
      "outputs": [
        {
          "output_type": "execute_result",
          "data": {
            "text/plain": [
              "{'narendra': 56,\n",
              " 'damodardas': 16,\n",
              " 'modi': 55,\n",
              " 'gujarati': 32,\n",
              " 'end': 24,\n",
              " 'mod': 54,\n",
              " 'listen': 48,\n",
              " 'born': 8,\n",
              " 'september': 86,\n",
              " 'indian': 40,\n",
              " 'politician': 68,\n",
              " 'serving': 87,\n",
              " 'th': 96,\n",
              " 'current': 15,\n",
              " 'prime': 70,\n",
              " 'minister': 53,\n",
              " 'india': 39,\n",
              " 'since': 89,\n",
              " 'chief': 10,\n",
              " 'gujarat': 31,\n",
              " 'member': 52,\n",
              " 'parliament': 66,\n",
              " 'varanasi': 103,\n",
              " 'bharatiya': 6,\n",
              " 'janata': 43,\n",
              " 'party': 67,\n",
              " 'bjp': 7,\n",
              " 'rashtriya': 75,\n",
              " 'swayamsevak': 94,\n",
              " 'sangh': 82,\n",
              " 'right': 80,\n",
              " 'wing': 108,\n",
              " 'hindu': 37,\n",
              " 'nationalist': 58,\n",
              " 'paramilitary': 64,\n",
              " 'volunteer': 105,\n",
              " 'organisation': 62,\n",
              " 'longest': 49,\n",
              " 'outside': 63,\n",
              " 'national': 57,\n",
              " 'congress': 13,\n",
              " 'raised': 73,\n",
              " 'vadnagar': 102,\n",
              " 'northeastern': 59,\n",
              " 'completed': 12,\n",
              " 'secondary': 84,\n",
              " 'education': 20,\n",
              " 'introduced': 42,\n",
              " 'age': 2,\n",
              " 'eight': 21,\n",
              " 'reminisced': 77,\n",
              " 'helping': 34,\n",
              " 'school': 83,\n",
              " 'father': 25,\n",
              " 'tea': 95,\n",
              " 'stall': 91,\n",
              " 'railway': 72,\n",
              " 'station': 93,\n",
              " 'married': 51,\n",
              " 'jashodaben': 44,\n",
              " 'chimanlal': 11,\n",
              " 'abandoned': 0,\n",
              " 'soon': 90,\n",
              " 'first': 26,\n",
              " 'publicly': 71,\n",
              " 'acknowledged': 1,\n",
              " 'wife': 107,\n",
              " 'four': 27,\n",
              " 'decade': 17,\n",
              " 'later': 45,\n",
              " 'required': 78,\n",
              " 'law': 46,\n",
              " 'made': 50,\n",
              " 'contact': 14,\n",
              " 'asserted': 3,\n",
              " 'travelled': 99,\n",
              " 'northern': 60,\n",
              " 'two': 100,\n",
              " 'year': 111,\n",
              " 'leaving': 47,\n",
              " 'parental': 65,\n",
              " 'home': 38,\n",
              " 'visiting': 104,\n",
              " 'number': 61,\n",
              " 'religious': 76,\n",
              " 'centre': 9,\n",
              " 'detail': 19,\n",
              " 'travel': 98,\n",
              " 'emerged': 22,\n",
              " 'upon': 101,\n",
              " 'return': 79,\n",
              " 'became': 5,\n",
              " 'full': 28,\n",
              " 'time': 97,\n",
              " 'worker': 110,\n",
              " 'state': 92,\n",
              " 'emergency': 23,\n",
              " 'declared': 18,\n",
              " 'indira': 41,\n",
              " 'gandhi': 29,\n",
              " 'went': 106,\n",
              " 'hiding': 35,\n",
              " 'assigned': 4,\n",
              " 'held': 33,\n",
              " 'several': 88,\n",
              " 'position': 69,\n",
              " 'within': 109,\n",
              " 'hierarchy': 36,\n",
              " 'rising': 81,\n",
              " 'rank': 74,\n",
              " 'general': 30,\n",
              " 'secretary': 85}"
            ]
          },
          "metadata": {},
          "execution_count": 84
        }
      ]
    },
    {
      "cell_type": "code",
      "source": [
        "corpus"
      ],
      "metadata": {
        "colab": {
          "base_uri": "https://localhost:8080/"
        },
        "id": "NKaK3CvP52r9",
        "outputId": "64c9435d-dd82-4760-88e2-c52d0a2aba01"
      },
      "execution_count": 85,
      "outputs": [
        {
          "output_type": "execute_result",
          "data": {
            "text/plain": [
              "['narendra damodardas modi gujarati n end mod modi listen born september b indian politician serving th current prime minister india since',\n",
              " 'modi chief minister gujarat member parliament varanasi',\n",
              " 'member bharatiya janata party bjp rashtriya swayamsevak sangh r right wing hindu nationalist paramilitary volunteer organisation',\n",
              " 'longest serving prime minister outside indian national congress',\n",
              " 'modi born raised vadnagar northeastern gujarat completed secondary education',\n",
              " 'introduced r age eight',\n",
              " 'reminisced helping school father tea stall vadnagar railway station',\n",
              " 'age modi married jashodaben chimanlal modi abandoned soon',\n",
              " 'first publicly acknowledged wife four decade later required indian law made contact since',\n",
              " 'modi asserted travelled northern india two year leaving parental home visiting number religious centre detail travel emerged',\n",
              " 'upon return gujarat became full time worker r',\n",
              " 'state emergency declared prime minister indira gandhi modi went hiding',\n",
              " 'r assigned bjp held several position within party hierarchy rising rank general secretary',\n",
              " 'c']"
            ]
          },
          "metadata": {},
          "execution_count": 85
        }
      ]
    },
    {
      "cell_type": "code",
      "source": [
        "corpus[0]"
      ],
      "metadata": {
        "colab": {
          "base_uri": "https://localhost:8080/",
          "height": 36
        },
        "id": "r4GO4N9J57cT",
        "outputId": "49287fb5-f7e5-4ec7-a7a1-8523158da054"
      },
      "execution_count": 86,
      "outputs": [
        {
          "output_type": "execute_result",
          "data": {
            "text/plain": [
              "'narendra damodardas modi gujarati n end mod modi listen born september b indian politician serving th current prime minister india since'"
            ],
            "application/vnd.google.colaboratory.intrinsic+json": {
              "type": "string"
            }
          },
          "metadata": {},
          "execution_count": 86
        }
      ]
    },
    {
      "cell_type": "code",
      "source": [
        "X[0].toarray()"
      ],
      "metadata": {
        "colab": {
          "base_uri": "https://localhost:8080/"
        },
        "id": "I0b4INj3581_",
        "outputId": "8bb47e11-49da-4640-dc42-dd54101e9701"
      },
      "execution_count": 87,
      "outputs": [
        {
          "output_type": "execute_result",
          "data": {
            "text/plain": [
              "array([[0, 0, 0, 0, 0, 0, 0, 0, 1, 0, 0, 0, 0, 0, 0, 1, 1, 0, 0, 0, 0, 0,\n",
              "        0, 0, 1, 0, 0, 0, 0, 0, 0, 0, 1, 0, 0, 0, 0, 0, 0, 1, 1, 0, 0, 0,\n",
              "        0, 0, 0, 0, 1, 0, 0, 0, 0, 1, 1, 2, 1, 0, 0, 0, 0, 0, 0, 0, 0, 0,\n",
              "        0, 0, 1, 0, 1, 0, 0, 0, 0, 0, 0, 0, 0, 0, 0, 0, 0, 0, 0, 0, 1, 1,\n",
              "        0, 1, 0, 0, 0, 0, 0, 0, 1, 0, 0, 0, 0, 0, 0, 0, 0, 0, 0, 0, 0, 0,\n",
              "        0, 0]])"
            ]
          },
          "metadata": {},
          "execution_count": 87
        }
      ]
    },
    {
      "cell_type": "code",
      "source": [
        "X[0].toarray().shape"
      ],
      "metadata": {
        "colab": {
          "base_uri": "https://localhost:8080/"
        },
        "id": "aroPK8NH6A7w",
        "outputId": "e370ea75-e9a9-414c-928f-32ab81a6eea0"
      },
      "execution_count": 88,
      "outputs": [
        {
          "output_type": "execute_result",
          "data": {
            "text/plain": [
              "(1, 112)"
            ]
          },
          "metadata": {},
          "execution_count": 88
        }
      ]
    },
    {
      "cell_type": "code",
      "source": [
        "cv = CountVectorizer(binary=True, ngram_range=(2,3))"
      ],
      "metadata": {
        "id": "8H43GcM76I_z"
      },
      "execution_count": 98,
      "outputs": []
    },
    {
      "cell_type": "code",
      "source": [
        "X = cv.fit_transform(corpus)"
      ],
      "metadata": {
        "id": "8O2Fm5_u6ex2"
      },
      "execution_count": 99,
      "outputs": []
    },
    {
      "cell_type": "code",
      "source": [
        "cv.vocabulary_"
      ],
      "metadata": {
        "colab": {
          "base_uri": "https://localhost:8080/"
        },
        "id": "qlWzlI9G6iLU",
        "outputId": "4dcf2d47-423e-4e07-cefe-65c2b17cc3af"
      },
      "execution_count": 100,
      "outputs": [
        {
          "output_type": "execute_result",
          "data": {
            "text/plain": [
              "{'narendra damodardas': 135,\n",
              " 'damodardas modi': 33,\n",
              " 'modi gujarati': 127,\n",
              " 'gujarati end': 62,\n",
              " 'end mod': 43,\n",
              " 'mod modi': 117,\n",
              " 'modi listen': 129,\n",
              " 'listen born': 97,\n",
              " 'born september': 20,\n",
              " 'september indian': 191,\n",
              " 'indian politician': 81,\n",
              " 'politician serving': 157,\n",
              " 'serving th': 195,\n",
              " 'th current': 207,\n",
              " 'current prime': 31,\n",
              " 'prime minister': 161,\n",
              " 'minister india': 111,\n",
              " 'india since': 74,\n",
              " 'narendra damodardas modi': 136,\n",
              " 'damodardas modi gujarati': 34,\n",
              " 'modi gujarati end': 128,\n",
              " 'gujarati end mod': 63,\n",
              " 'end mod modi': 44,\n",
              " 'mod modi listen': 118,\n",
              " 'modi listen born': 130,\n",
              " 'listen born september': 98,\n",
              " 'born september indian': 21,\n",
              " 'september indian politician': 192,\n",
              " 'indian politician serving': 82,\n",
              " 'politician serving th': 158,\n",
              " 'serving th current': 196,\n",
              " 'th current prime': 208,\n",
              " 'current prime minister': 32,\n",
              " 'prime minister india': 162,\n",
              " 'minister india since': 112,\n",
              " 'modi chief': 125,\n",
              " 'chief minister': 24,\n",
              " 'minister gujarat': 109,\n",
              " 'gujarat member': 60,\n",
              " 'member parliament': 107,\n",
              " 'parliament varanasi': 152,\n",
              " 'modi chief minister': 126,\n",
              " 'chief minister gujarat': 25,\n",
              " 'minister gujarat member': 110,\n",
              " 'gujarat member parliament': 61,\n",
              " 'member parliament varanasi': 108,\n",
              " 'member bharatiya': 105,\n",
              " 'bharatiya janata': 12,\n",
              " 'janata party': 87,\n",
              " 'party bjp': 153,\n",
              " 'bjp rashtriya': 16,\n",
              " 'rashtriya swayamsevak': 172,\n",
              " 'swayamsevak sangh': 203,\n",
              " 'sangh right': 186,\n",
              " 'right wing': 182,\n",
              " 'wing hindu': 227,\n",
              " 'hindu nationalist': 70,\n",
              " 'nationalist paramilitary': 138,\n",
              " 'paramilitary volunteer': 148,\n",
              " 'volunteer organisation': 223,\n",
              " 'member bharatiya janata': 106,\n",
              " 'bharatiya janata party': 13,\n",
              " 'janata party bjp': 88,\n",
              " 'party bjp rashtriya': 154,\n",
              " 'bjp rashtriya swayamsevak': 17,\n",
              " 'rashtriya swayamsevak sangh': 173,\n",
              " 'swayamsevak sangh right': 204,\n",
              " 'sangh right wing': 187,\n",
              " 'right wing hindu': 183,\n",
              " 'wing hindu nationalist': 228,\n",
              " 'hindu nationalist paramilitary': 71,\n",
              " 'nationalist paramilitary volunteer': 139,\n",
              " 'paramilitary volunteer organisation': 149,\n",
              " 'longest serving': 99,\n",
              " 'serving prime': 193,\n",
              " 'minister outside': 115,\n",
              " 'outside indian': 146,\n",
              " 'indian national': 79,\n",
              " 'national congress': 137,\n",
              " 'longest serving prime': 100,\n",
              " 'serving prime minister': 194,\n",
              " 'prime minister outside': 164,\n",
              " 'minister outside indian': 116,\n",
              " 'outside indian national': 147,\n",
              " 'indian national congress': 80,\n",
              " 'modi born': 123,\n",
              " 'born raised': 18,\n",
              " 'raised vadnagar': 168,\n",
              " 'vadnagar northeastern': 217,\n",
              " 'northeastern gujarat': 140,\n",
              " 'gujarat completed': 58,\n",
              " 'completed secondary': 28,\n",
              " 'secondary education': 190,\n",
              " 'modi born raised': 124,\n",
              " 'born raised vadnagar': 19,\n",
              " 'raised vadnagar northeastern': 169,\n",
              " 'vadnagar northeastern gujarat': 218,\n",
              " 'northeastern gujarat completed': 141,\n",
              " 'gujarat completed secondary': 59,\n",
              " 'completed secondary education': 29,\n",
              " 'introduced age': 85,\n",
              " 'age eight': 3,\n",
              " 'introduced age eight': 86,\n",
              " 'reminisced helping': 176,\n",
              " 'helping school': 66,\n",
              " 'school father': 188,\n",
              " 'father tea': 45,\n",
              " 'tea stall': 205,\n",
              " 'stall vadnagar': 199,\n",
              " 'vadnagar railway': 219,\n",
              " 'railway station': 167,\n",
              " 'reminisced helping school': 177,\n",
              " 'helping school father': 67,\n",
              " 'school father tea': 189,\n",
              " 'father tea stall': 46,\n",
              " 'tea stall vadnagar': 206,\n",
              " 'stall vadnagar railway': 200,\n",
              " 'vadnagar railway station': 220,\n",
              " 'age modi': 4,\n",
              " 'modi married': 131,\n",
              " 'married jashodaben': 103,\n",
              " 'jashodaben chimanlal': 89,\n",
              " 'chimanlal modi': 26,\n",
              " 'modi abandoned': 119,\n",
              " 'abandoned soon': 0,\n",
              " 'age modi married': 5,\n",
              " 'modi married jashodaben': 132,\n",
              " 'married jashodaben chimanlal': 104,\n",
              " 'jashodaben chimanlal modi': 90,\n",
              " 'chimanlal modi abandoned': 27,\n",
              " 'modi abandoned soon': 120,\n",
              " 'first publicly': 47,\n",
              " 'publicly acknowledged': 165,\n",
              " 'acknowledged wife': 1,\n",
              " 'wife four': 225,\n",
              " 'four decade': 49,\n",
              " 'decade later': 35,\n",
              " 'later required': 91,\n",
              " 'required indian': 178,\n",
              " 'indian law': 77,\n",
              " 'law made': 93,\n",
              " 'made contact': 101,\n",
              " 'contact since': 30,\n",
              " 'first publicly acknowledged': 48,\n",
              " 'publicly acknowledged wife': 166,\n",
              " 'acknowledged wife four': 2,\n",
              " 'wife four decade': 226,\n",
              " 'four decade later': 50,\n",
              " 'decade later required': 36,\n",
              " 'later required indian': 92,\n",
              " 'required indian law': 179,\n",
              " 'indian law made': 78,\n",
              " 'law made contact': 94,\n",
              " 'made contact since': 102,\n",
              " 'modi asserted': 121,\n",
              " 'asserted travelled': 6,\n",
              " 'travelled northern': 211,\n",
              " 'northern india': 142,\n",
              " 'india two': 75,\n",
              " 'two year': 213,\n",
              " 'year leaving': 231,\n",
              " 'leaving parental': 95,\n",
              " 'parental home': 150,\n",
              " 'home visiting': 72,\n",
              " 'visiting number': 221,\n",
              " 'number religious': 144,\n",
              " 'religious centre': 174,\n",
              " 'centre detail': 22,\n",
              " 'detail travel': 39,\n",
              " 'travel emerged': 210,\n",
              " 'modi asserted travelled': 122,\n",
              " 'asserted travelled northern': 7,\n",
              " 'travelled northern india': 212,\n",
              " 'northern india two': 143,\n",
              " 'india two year': 76,\n",
              " 'two year leaving': 214,\n",
              " 'year leaving parental': 232,\n",
              " 'leaving parental home': 96,\n",
              " 'parental home visiting': 151,\n",
              " 'home visiting number': 73,\n",
              " 'visiting number religious': 222,\n",
              " 'number religious centre': 145,\n",
              " 'religious centre detail': 175,\n",
              " 'centre detail travel': 23,\n",
              " 'detail travel emerged': 40,\n",
              " 'upon return': 215,\n",
              " 'return gujarat': 180,\n",
              " 'gujarat became': 56,\n",
              " 'became full': 10,\n",
              " 'full time': 51,\n",
              " 'time worker': 209,\n",
              " 'upon return gujarat': 216,\n",
              " 'return gujarat became': 181,\n",
              " 'gujarat became full': 57,\n",
              " 'became full time': 11,\n",
              " 'full time worker': 52,\n",
              " 'state emergency': 201,\n",
              " 'emergency declared': 41,\n",
              " 'declared prime': 37,\n",
              " 'minister indira': 113,\n",
              " 'indira gandhi': 83,\n",
              " 'gandhi modi': 53,\n",
              " 'modi went': 133,\n",
              " 'went hiding': 224,\n",
              " 'state emergency declared': 202,\n",
              " 'emergency declared prime': 42,\n",
              " 'declared prime minister': 38,\n",
              " 'prime minister indira': 163,\n",
              " 'minister indira gandhi': 114,\n",
              " 'indira gandhi modi': 84,\n",
              " 'gandhi modi went': 54,\n",
              " 'modi went hiding': 134,\n",
              " 'assigned bjp': 8,\n",
              " 'bjp held': 14,\n",
              " 'held several': 64,\n",
              " 'several position': 197,\n",
              " 'position within': 159,\n",
              " 'within party': 229,\n",
              " 'party hierarchy': 155,\n",
              " 'hierarchy rising': 68,\n",
              " 'rising rank': 184,\n",
              " 'rank general': 170,\n",
              " 'general secretary': 55,\n",
              " 'assigned bjp held': 9,\n",
              " 'bjp held several': 15,\n",
              " 'held several position': 65,\n",
              " 'several position within': 198,\n",
              " 'position within party': 160,\n",
              " 'within party hierarchy': 230,\n",
              " 'party hierarchy rising': 156,\n",
              " 'hierarchy rising rank': 69,\n",
              " 'rising rank general': 185,\n",
              " 'rank general secretary': 171}"
            ]
          },
          "metadata": {},
          "execution_count": 100
        }
      ]
    },
    {
      "cell_type": "markdown",
      "source": [],
      "metadata": {
        "id": "dl3Ewlg3A6Jy"
      }
    },
    {
      "cell_type": "markdown",
      "source": [
        "## TFIDF"
      ],
      "metadata": {
        "id": "Ph3tP2JCDWKV"
      }
    },
    {
      "cell_type": "code",
      "source": [
        "from sklearn.feature_extraction.text import TfidfVectorizer\n",
        "\n",
        "cv = TfidfVectorizer(ngram_range=(1,1), max_features=10)\n",
        "\n",
        "X = cv.fit_transform(corpus)"
      ],
      "metadata": {
        "id": "EpuDwLpvDL4o"
      },
      "execution_count": 116,
      "outputs": []
    },
    {
      "cell_type": "code",
      "source": [
        "corpus[0]"
      ],
      "metadata": {
        "id": "hNxMLOMyDL2b",
        "outputId": "986a6a76-bdd6-4d1b-ea58-74cb9d2956aa",
        "colab": {
          "base_uri": "https://localhost:8080/",
          "height": 36
        }
      },
      "execution_count": 117,
      "outputs": [
        {
          "output_type": "execute_result",
          "data": {
            "text/plain": [
              "'narendra damodardas modi gujarati n end mod modi listen born september b indian politician serving th current prime minister india since'"
            ],
            "application/vnd.google.colaboratory.intrinsic+json": {
              "type": "string"
            }
          },
          "metadata": {},
          "execution_count": 117
        }
      ]
    },
    {
      "cell_type": "code",
      "source": [
        "X[0].toarray()"
      ],
      "metadata": {
        "id": "dku2_1x7DLy3",
        "outputId": "d32caa1c-9b6e-415b-d523-564e8e92a4b6",
        "colab": {
          "base_uri": "https://localhost:8080/"
        }
      },
      "execution_count": 118,
      "outputs": [
        {
          "output_type": "execute_result",
          "data": {
            "text/plain": [
              "array([[0.        , 0.        , 0.44480857, 0.        , 0.39576986,\n",
              "        0.        , 0.35773249, 0.60075389, 0.39576986, 0.        ]])"
            ]
          },
          "metadata": {},
          "execution_count": 118
        }
      ]
    },
    {
      "cell_type": "code",
      "source": [],
      "metadata": {
        "id": "hnN-YMkSDLv9"
      },
      "execution_count": null,
      "outputs": []
    }
  ]
}