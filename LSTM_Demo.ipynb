{
  "nbformat": 4,
  "nbformat_minor": 0,
  "metadata": {
    "colab": {
      "provenance": [],
      "gpuType": "T4",
      "authorship_tag": "ABX9TyM9XiTt2YmqL7AmWQPB3SPB",
      "include_colab_link": true
    },
    "kernelspec": {
      "name": "python3",
      "display_name": "Python 3"
    },
    "language_info": {
      "name": "python"
    },
    "accelerator": "GPU"
  },
  "cells": [
    {
      "cell_type": "markdown",
      "metadata": {
        "id": "view-in-github",
        "colab_type": "text"
      },
      "source": [
        "<a href=\"https://colab.research.google.com/github/gbiamgaurav/NLP/blob/main/LSTM_Demo.ipynb\" target=\"_parent\"><img src=\"https://colab.research.google.com/assets/colab-badge.svg\" alt=\"Open In Colab\"/></a>"
      ]
    },
    {
      "cell_type": "code",
      "execution_count": 1,
      "metadata": {
        "id": "FgatG4Ui_Hqi"
      },
      "outputs": [],
      "source": [
        "from keras.datasets import imdb\n",
        "from keras.preprocessing.text import Tokenizer\n",
        "from keras.utils import pad_sequences\n",
        "from keras import Sequential\n",
        "from keras.layers import Dense, Embedding, Flatten, LSTM"
      ]
    },
    {
      "cell_type": "code",
      "source": [
        "(X_train, y_train), (X_test, y_test) = imdb.load_data()"
      ],
      "metadata": {
        "colab": {
          "base_uri": "https://localhost:8080/"
        },
        "id": "spkULDpi_Mvg",
        "outputId": "70527967-34b3-4a3a-ef7c-983303865f88"
      },
      "execution_count": 3,
      "outputs": [
        {
          "output_type": "stream",
          "name": "stdout",
          "text": [
            "Downloading data from https://storage.googleapis.com/tensorflow/tf-keras-datasets/imdb.npz\n",
            "17464789/17464789 [==============================] - 1s 0us/step\n"
          ]
        }
      ]
    },
    {
      "cell_type": "code",
      "source": [
        "X_train = pad_sequences(X_train, padding=\"post\", maxlen=50)\n",
        "\n",
        "X_test = pad_sequences(X_test, padding=\"post\", maxlen=50)"
      ],
      "metadata": {
        "id": "ZrnqLBlq_Msv"
      },
      "execution_count": 4,
      "outputs": []
    },
    {
      "cell_type": "code",
      "source": [
        "X_train.shape"
      ],
      "metadata": {
        "colab": {
          "base_uri": "https://localhost:8080/"
        },
        "id": "xkssmXwB_MqK",
        "outputId": "2c54254b-4b62-4d5a-88e7-4e47f4600ce9"
      },
      "execution_count": 5,
      "outputs": [
        {
          "output_type": "execute_result",
          "data": {
            "text/plain": [
              "(25000, 50)"
            ]
          },
          "metadata": {},
          "execution_count": 5
        }
      ]
    },
    {
      "cell_type": "code",
      "source": [
        "model = Sequential()\n",
        "model.add(Embedding(10000, output_dim=2, input_length=50))\n",
        "model.add(LSTM(32, return_sequences=False))\n",
        "model.add(Dense(1, activation=\"sigmoid\"))\n",
        "\n",
        "model.summary()"
      ],
      "metadata": {
        "colab": {
          "base_uri": "https://localhost:8080/"
        },
        "id": "idhWCw4T_Mm8",
        "outputId": "4b40519f-1de1-48d4-d6f9-2da146138b9f"
      },
      "execution_count": 6,
      "outputs": [
        {
          "output_type": "stream",
          "name": "stdout",
          "text": [
            "Model: \"sequential\"\n",
            "_________________________________________________________________\n",
            " Layer (type)                Output Shape              Param #   \n",
            "=================================================================\n",
            " embedding (Embedding)       (None, 50, 2)             20000     \n",
            "                                                                 \n",
            " lstm (LSTM)                 (None, 32)                4480      \n",
            "                                                                 \n",
            " dense (Dense)               (None, 1)                 33        \n",
            "                                                                 \n",
            "=================================================================\n",
            "Total params: 24,513\n",
            "Trainable params: 24,513\n",
            "Non-trainable params: 0\n",
            "_________________________________________________________________\n"
          ]
        }
      ]
    },
    {
      "cell_type": "code",
      "source": [
        "model.compile(optimizer=\"adam\", loss=\"binary_crossentropy\", metrics=[\"acc\"])\n",
        "history = model.fit(X_train, y_train, epochs=5, validation_data=(X_test, y_test))"
      ],
      "metadata": {
        "colab": {
          "base_uri": "https://localhost:8080/"
        },
        "id": "t3nUTbPqAYnV",
        "outputId": "3727f60f-1559-45a1-eabb-b63f1e322bbf"
      },
      "execution_count": 7,
      "outputs": [
        {
          "output_type": "stream",
          "name": "stdout",
          "text": [
            "Epoch 1/5\n",
            "782/782 [==============================] - 40s 41ms/step - loss: 0.5198 - acc: 0.7261 - val_loss: 0.4083 - val_acc: 0.8108\n",
            "Epoch 2/5\n",
            "782/782 [==============================] - 10s 12ms/step - loss: 0.3498 - acc: 0.8494 - val_loss: 0.4008 - val_acc: 0.8167\n",
            "Epoch 3/5\n",
            "782/782 [==============================] - 9s 12ms/step - loss: 0.2991 - acc: 0.8754 - val_loss: 0.4145 - val_acc: 0.8114\n",
            "Epoch 4/5\n",
            "782/782 [==============================] - 9s 12ms/step - loss: 0.2666 - acc: 0.8941 - val_loss: 0.4483 - val_acc: 0.8087\n",
            "Epoch 5/5\n",
            "782/782 [==============================] - 12s 15ms/step - loss: 0.2446 - acc: 0.9028 - val_loss: 0.4760 - val_acc: 0.7990\n"
          ]
        }
      ]
    },
    {
      "cell_type": "markdown",
      "source": [
        "### Predictions"
      ],
      "metadata": {
        "id": "odvJEFtcBz0T"
      }
    },
    {
      "cell_type": "code",
      "source": [
        "test_data = X_test[0][0:50].reshape(1, -1)"
      ],
      "metadata": {
        "id": "g6cpQRFzBif2"
      },
      "execution_count": 8,
      "outputs": []
    },
    {
      "cell_type": "code",
      "source": [
        "model.predict(test_data)"
      ],
      "metadata": {
        "colab": {
          "base_uri": "https://localhost:8080/"
        },
        "id": "TIE5PnqfB5jP",
        "outputId": "849695dd-68ba-4e85-8d64-ee6b8dc61a57"
      },
      "execution_count": 9,
      "outputs": [
        {
          "output_type": "stream",
          "name": "stdout",
          "text": [
            "1/1 [==============================] - 1s 766ms/step\n"
          ]
        },
        {
          "output_type": "execute_result",
          "data": {
            "text/plain": [
              "array([[0.23125555]], dtype=float32)"
            ]
          },
          "metadata": {},
          "execution_count": 9
        }
      ]
    },
    {
      "cell_type": "code",
      "source": [],
      "metadata": {
        "id": "pz1NyndoB9Pc"
      },
      "execution_count": null,
      "outputs": []
    }
  ]
}